{
  "cells": [
    {
      "cell_type": "markdown",
      "metadata": {
        "id": "V4YRlmGDRU8d"
      },
      "source": [
        "**Análise de Consumo de Água em Sistemas de Saneamento**\n",
        "\n",
        "Uma empresa de saneamento precisa analisar o consumo de água em diferentes níveis administrativos, desde a unidade residencial individual até bairros e cidades inteiras. O objetivo é identificar padrões de consumo e áreas de alta demanda para otimizar a distribuição e reduzir desperdícios.\n",
        "\n",
        "Utilizar uma função recursiva para calcular o consumo total de água em diferentes níveis, agregando os dados desde o nível mais granular (residências) até o mais amplo (cidades), baseando-se em uma estrutura hierárquica de dados.\n",
        "\n",
        "Para representar uma rede de distribuição de água em sistemas de saneamento como um grafo e indicar pontos para cálculo de consumo, vamos criar um cenário hipotético com uma estrutura simplificada. Essa rede incluirá pontos de distribuição principais (como reservatórios) e pontos de consumo (como bairros ou residências).\n",
        "\n",
        "Estrutura da Rede de Distribuição de Água\n",
        "+ **Reservatório Principal (R):** O ponto de partida da distribuição de água.\n",
        "+ **Estações de Bombeamento (E1, E2):** Responsáveis por bombear água para áreas elevadas.\n",
        "+ **Bairros (B1, B2, B3):** Áreas residenciais onde o consumo de água será calculado.\n",
        "+ **Indústrias (I1):** Grandes consumidores de água, incluídos no cálculo de consumo.\n",
        "+ **Zona Comercial (ZC):** Área com diversos estabelecimentos comerciais.\n",
        "\n",
        "A representação gráfica da rede é dada por vértices (pontos de interesse) e arestas (conexões entre os pontos), onde as arestas podem representar tubulações ou canais de distribuição de água. Para este exemplo, vamos considerar uma representação simplificada em forma de grafo:\n",
        "\n",
        "```\n",
        "       R\n",
        "      / \\\n",
        "     E1  E2\n",
        "    / \\  / \\\n",
        "   B1 B2 B3 I1\n",
        "        \\\n",
        "        ZC\n"
      ]
    },
    {
      "cell_type": "code",
      "execution_count": 7,
      "metadata": {
        "id": "sPhVcRqvQg52"
      },
      "outputs": [
        {
          "name": "stdout",
          "output_type": "stream",
          "text": [
            "Consumo por ponto de distribuição:\n",
            "{\n",
            "  \"B1\": 150,\n",
            "  \"E1\": 650,\n",
            "  \"R\": 1330,\n",
            "  \"B2\": 500,\n",
            "  \"B3\": 180,\n",
            "  \"E2\": 680,\n",
            "  \"I1\": 500,\n",
            "  \"ZC\": 300\n",
            "}\n"
          ]
        }
      ],
      "source": [
        "import json\n",
        "\n",
        "class RedeDistribuicao:\n",
        "    def __init__(self):\n",
        "        self.grafo = {\n",
        "            'R': ['E1', 'E2'],\n",
        "            'E1': ['B1', 'B2'],\n",
        "            'E2': ['B3', 'I1'],\n",
        "            'B2': ['ZC'],\n",
        "            'B1': [],\n",
        "            'B3': [],\n",
        "            'I1': [],\n",
        "            'ZC': []\n",
        "        }\n",
        "        self.consumo = {}\n",
        "\n",
        "    def calcular_consumo(self, ponto, consumo_estimado):\n",
        "        if ponto not in self.consumo:\n",
        "            self.consumo[ponto] = 0\n",
        "        self.consumo[ponto] += consumo_estimado\n",
        "        # Recursivamente soma o consumo estimado aos pontos de origem\n",
        "        for origem, destinos in self.grafo.items():\n",
        "            if ponto in destinos:\n",
        "                self.calcular_consumo(origem, consumo_estimado)\n",
        "\n",
        "# Exemplo de uso\n",
        "rede = RedeDistribuicao()\n",
        "rede.calcular_consumo('B1', 150)  # Bairro 1 consome 150 unidades\n",
        "rede.calcular_consumo('B2', 200)  # Bairro 2 consome 200 unidades\n",
        "rede.calcular_consumo('B3', 180)  # Bairro 3 consome 180 unidades\n",
        "rede.calcular_consumo('I1', 500)  # Indústria 1 consome 500 unidades\n",
        "rede.calcular_consumo('ZC', 300)  # Zona Comercial consome 300 unidades\n",
        "\n",
        "print(\"Consumo por ponto de distribuição:\")\n",
        "print(json.dumps(rede.consumo, indent=2))"
      ]
    },
    {
      "cell_type": "markdown",
      "metadata": {
        "id": "pYs0UWVIboBb"
      },
      "source": [
        "---\n",
        "**EXERCÍCIO**\n",
        "\n",
        "**Cálculo de Emissões de Carbono em Projetos de Energia**\n",
        "\n",
        "Uma empresa de energia que opera múltiplas usinas de geração de energia deseja calcular o impacto ambiental total de suas operações, medido em emissões de carbono, para reportar a agências reguladoras e otimizar estratégias de sustentabilidade.\n",
        "\n",
        "Desenvolva uma função recursiva que calcula o total de emissões de carbono para um conjunto de usinas, considerando diferentes tipos de geração de energia (solar, eólica, fóssil, etc.), cada uma com seu fator de emissão específico."
      ]
    },
    {
      "cell_type": "code",
      "execution_count": null,
      "metadata": {
        "id": "lmT4DLdecmCx"
      },
      "outputs": [],
      "source": [
        "def calcular_emissoes(usinas, indice=0, total_emissoes=0):\n",
        "    # DESENVOLVA O MÉTODO PARA CÁLCULO DAS EMISSÕES\n",
        "    pass\n",
        "\n",
        "# Exemplo de dados: Tipo de usina, produção anual em GWh, fator de emissão (toneladas de CO2 por GWh)\n",
        "usinas = [\n",
        "    (\"Solar\", 120, 0),  # Energia solar tem emissão zero\n",
        "    (\"Eólica\", 200, 0),  # Energia eólica tem emissão zero\n",
        "    (\"Fóssil\", 500, 0.7)  # Energia fóssil tem alto fator de emissão\n",
        "]\n",
        "\n",
        "calcular_emissoes(usinas)\n"
      ]
    }
  ],
  "metadata": {
    "colab": {
      "private_outputs": true,
      "provenance": []
    },
    "kernelspec": {
      "display_name": "Python 3",
      "name": "python3"
    },
    "language_info": {
      "codemirror_mode": {
        "name": "ipython",
        "version": 3
      },
      "file_extension": ".py",
      "mimetype": "text/x-python",
      "name": "python",
      "nbconvert_exporter": "python",
      "pygments_lexer": "ipython3",
      "version": "3.9.4"
    }
  },
  "nbformat": 4,
  "nbformat_minor": 0
}
