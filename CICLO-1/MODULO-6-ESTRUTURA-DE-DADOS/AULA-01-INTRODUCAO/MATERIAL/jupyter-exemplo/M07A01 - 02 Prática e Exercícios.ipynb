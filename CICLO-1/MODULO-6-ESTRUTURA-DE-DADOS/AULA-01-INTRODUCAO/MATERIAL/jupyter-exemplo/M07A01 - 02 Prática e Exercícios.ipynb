{
  "nbformat": 4,
  "nbformat_minor": 0,
  "metadata": {
    "colab": {
      "private_outputs": true,
      "provenance": []
    },
    "kernelspec": {
      "name": "python3",
      "display_name": "Python 3"
    },
    "language_info": {
      "name": "python"
    }
  },
  "cells": [
    {
      "cell_type": "markdown",
      "source": [
        "**ARRAYS**\n",
        "\n",
        "Principais operações que se pode realizar com um array"
      ],
      "metadata": {
        "id": "LR_vSytHJuIn"
      }
    },
    {
      "cell_type": "code",
      "execution_count": null,
      "metadata": {
        "id": "jr2V11TNJFgW"
      },
      "outputs": [],
      "source": [
        "# Criando um array vazio\n",
        "empty = []\n",
        "empty"
      ]
    },
    {
      "cell_type": "code",
      "source": [
        "# Criando um array numérico\n",
        "numbers = [1, 2, 3, 4, 5, 6, 7, 8, 9, 10]\n",
        "numbers"
      ],
      "metadata": {
        "id": "_t_c7qZPJ8Aa"
      },
      "execution_count": null,
      "outputs": []
    },
    {
      "cell_type": "code",
      "source": [
        "# Criando um array de forma automática\n",
        "numberOfPlayers = 10\n",
        "scores = [0] * numberOfPlayers\n",
        "scores"
      ],
      "metadata": {
        "id": "K9NsNz2MJ_B7"
      },
      "execution_count": null,
      "outputs": []
    },
    {
      "cell_type": "code",
      "source": [
        "# Armazenando diferentes tipos de dados em um array\n",
        "mixed = ['a', 1, 2.0, [13], {}]\n",
        "mixed"
      ],
      "metadata": {
        "id": "CU0-A6r_KKp-"
      },
      "execution_count": null,
      "outputs": []
    },
    {
      "cell_type": "markdown",
      "source": [
        "**UTILIZANDO ÍNDICES**\n",
        "\n",
        "Processo de acesso aos elementos de um array"
      ],
      "metadata": {
        "id": "uanxnS-fKTzj"
      }
    },
    {
      "cell_type": "code",
      "source": [
        "# Acessando o primeiro elemento do array\n",
        "numbers[0]"
      ],
      "metadata": {
        "id": "52stIy2HKXsN"
      },
      "execution_count": null,
      "outputs": []
    },
    {
      "cell_type": "code",
      "source": [
        "# Acessando o último elemento de um array\n",
        "numbers[-1]"
      ],
      "metadata": {
        "id": "rBHgioP-K3Za"
      },
      "execution_count": null,
      "outputs": []
    },
    {
      "cell_type": "code",
      "source": [
        "# Acessando qualquer elemento por seu índice\n",
        "numbers[4]"
      ],
      "metadata": {
        "id": "xkQcq_pCLAR9"
      },
      "execution_count": null,
      "outputs": []
    },
    {
      "cell_type": "markdown",
      "source": [
        "**ADICIOANDO ELEMENTOS**\n",
        "\n",
        "Operações utilizadas para manipular o array e acrescentar novos elementos a seu conteúdo"
      ],
      "metadata": {
        "id": "1DjU-115LPxC"
      }
    },
    {
      "cell_type": "code",
      "source": [
        "# Adicionando um novo elemento ao fim do array\n",
        "letters = ['b']\n",
        "letters.append('d')\n",
        "letters"
      ],
      "metadata": {
        "id": "QrxxvDsXLWPA"
      },
      "execution_count": null,
      "outputs": []
    },
    {
      "cell_type": "code",
      "source": [
        "# Inserindo um elemento no começo da lista\n",
        "letters.insert(0, 'a')\n",
        "letters"
      ],
      "metadata": {
        "id": "t9wa2WmjLkRS"
      },
      "execution_count": null,
      "outputs": []
    },
    {
      "cell_type": "code",
      "source": [
        "# Inserindo um elemento em qualquer posição\n",
        "letters.insert(2, 'c')\n",
        "letters"
      ],
      "metadata": {
        "id": "I1LHV1AZLrEl"
      },
      "execution_count": null,
      "outputs": []
    },
    {
      "cell_type": "code",
      "source": [
        "# Expandindo o array a partir de outra lista\n",
        "more_letters = ['e', 'f', 'g']\n",
        "letters.extend(more_letters)\n",
        "letters"
      ],
      "metadata": {
        "id": "em3IWR5rL1NC"
      },
      "execution_count": null,
      "outputs": []
    },
    {
      "cell_type": "code",
      "source": [
        "# Modificando um elemento em qualquer posição\n",
        "letters[3] = 'z'\n",
        "letters"
      ],
      "metadata": {
        "id": "NJAkbV5XL9xb"
      },
      "execution_count": null,
      "outputs": []
    },
    {
      "cell_type": "code",
      "source": [
        "# Trocando dois elementos de posição\n",
        "letters[0], letters[1] = letters[1], letters[0]\n",
        "letters"
      ],
      "metadata": {
        "id": "BK9-xxFZMEcV"
      },
      "execution_count": null,
      "outputs": []
    },
    {
      "cell_type": "markdown",
      "source": [
        "**REMOVENDO ELEMENTOS DE UMA LISTA**\n",
        "\n",
        "Operações utilizadas para remover elementos de um array"
      ],
      "metadata": {
        "id": "CJ0ObkCUMM6S"
      }
    },
    {
      "cell_type": "code",
      "source": [
        "# Remover elemento do fim\n",
        "letters = ['a', 'b', 'c', 'd', 'e', 'f']\n",
        "letters.pop()\n",
        "letters"
      ],
      "metadata": {
        "id": "6KM4ZgruMSmW"
      },
      "execution_count": null,
      "outputs": []
    },
    {
      "cell_type": "code",
      "source": [
        "# Removendo elemento por índice\n",
        "letters.pop(2)\n",
        "letters"
      ],
      "metadata": {
        "id": "Dk2nwmyOMYKa"
      },
      "execution_count": null,
      "outputs": []
    },
    {
      "cell_type": "code",
      "source": [
        "# Removendo um item específico\n",
        "letters.remove('d')\n",
        "letters"
      ],
      "metadata": {
        "id": "oBnFdKEVMcN2"
      },
      "execution_count": null,
      "outputs": []
    },
    {
      "cell_type": "markdown",
      "source": [
        "\n",
        "\n",
        "---\n",
        "\n",
        "**EXERCÍCIO**\n",
        "\n",
        "**1.** Escreva um pequeno parágrafo sobre seu entendimento de estrutura de dados e detalhe as principais estruturas existentes. Explique a utilidade de cada uma com exemplos práticos.\n",
        "\n",
        "**2.** Crie um algoritmo para gerenciar o estoque de uma loja\n",
        "\n",
        "  *Você é o responsável pelo sistema de gerenciamento de uma loja de varejo. A loja vende diversos produtos e precisa manter um controle eficiente do estoque. Seu desafio é implementar um sistema simples para gerenciar o estoque usando arrays.*\n",
        "  \n",
        "  REQUISITOS:\n",
        "  \n",
        "  **Inventário de Produtos:** cada produto no estoque tem um ID único, nome do produto, quantidade e preço\n",
        "  \n",
        "  **Operações de Estoque:**\n",
        "  *   Adicionar novos produtos ao estoque\n",
        "  *   Atualizar a quantidade de um produto existente\n",
        "  *   Remover produtos do estoque\n",
        "  *   Listar todos os produtos em estoque\n",
        "\n",
        "\n",
        "\n",
        "\n"
      ],
      "metadata": {
        "id": "8cq4Ek_pMnO4"
      }
    },
    {
      "cell_type": "markdown",
      "source": [
        "---\n",
        "**RESPOSTAS**"
      ],
      "metadata": {
        "id": "E66InQ9YOccV"
      }
    },
    {
      "cell_type": "markdown",
      "source": [
        "**(1)** ...\n",
        "\n",
        "<!-- Descreva aqui sua respostas para primeira questão -->"
      ],
      "metadata": {
        "id": "J6qhK-UaOq89"
      }
    },
    {
      "cell_type": "markdown",
      "source": [
        "**(2)** ...\n",
        "\n",
        "<!-- Descreva aqui como você resolveu o problema de negócio apresentado, e acrescente seu código abaixo -->"
      ],
      "metadata": {
        "id": "LhFp34TFPIUZ"
      }
    },
    {
      "cell_type": "code",
      "source": [
        "# Detalhe aqui seu código para resolver o problema de negócio apresentado\n"
      ],
      "metadata": {
        "id": "d81U3imeO09C"
      },
      "execution_count": null,
      "outputs": []
    }
  ]
}