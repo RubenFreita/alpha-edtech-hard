{
  "cells": [
    {
      "cell_type": "code",
      "execution_count": 1,
      "metadata": {
        "id": "i-t75PsV0dB9"
      },
      "outputs": [],
      "source": [
        "# EXEMPLO 01\n",
        "def factorial(n):\n",
        "    if n == 0:\n",
        "        return 1\n",
        "    else:\n",
        "        return n * factorial(n - 1)"
      ]
    },
    {
      "cell_type": "code",
      "execution_count": null,
      "metadata": {
        "id": "MYNlrb-90n56"
      },
      "outputs": [],
      "source": [
        "# EXEMPLO 02\n",
        "def fibonacci(n):\n",
        "    if n <= 1:\n",
        "        return n\n",
        "    else:\n",
        "        return fibonacci(n - 1) + fibonacci(n - 2)"
      ]
    },
    {
      "cell_type": "markdown",
      "metadata": {
        "id": "8uWo8ntD9TF6"
      },
      "source": [
        "**Caso de Estudo: Resolvendo o Problema das Torres de Hanói Usando Recursão**\n",
        "\n",
        "O problema das Torres de Hanói é um clássico quebra-cabeça que envolve três pinos e um número de discos de diferentes tamanhos que podem deslizar em qualquer pino. O quebra-cabeça começa com os discos empilhados em ordem decrescente de tamanho no pino 1, de modo que o menor disco esteja no topo, formando uma estrutura cônica.\n",
        "\n",
        "![image001[1].jpg](data:image/jpeg;base64,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)\n",
        "\n",
        "**Objetivo:** Mover toda a pilha de discos do pino 1 para o pino 3, obedecendo às seguintes regras:\n",
        "\n",
        "1. Apenas um disco pode ser movido por vez.\n",
        "2. Cada movimento consiste em pegar o disco superior de uma das pilhas e colocá-lo no topo de outra pilha.\n",
        "3. Um disco maior não pode ser colocado sobre um disco menor.\n",
        "\n",
        "A solução para o problema das Torres de Hanói pode ser elegantemente expressa e resolvida usando recursão. A ideia básica é resolver o problema para *n-1* discos primeiro e, em seguida, mover o maior disco para o destino, seguindo com a resolução recursiva para mover os *n-1* discos para o destino sobre o maior disco."
      ]
    },
    {
      "cell_type": "code",
      "execution_count": null,
      "metadata": {
        "id": "nv0g6ens98l1"
      },
      "outputs": [],
      "source": [
        "def torres_de_hanoi(n, origem, destino, auxiliar):\n",
        "    if n == 1:\n",
        "        print(f\"Mover disco 1 de {origem} para {destino}\")\n",
        "        return\n",
        "    # Mover n-1 discos de origem para auxiliar\n",
        "    torres_de_hanoi(n-1, origem, auxiliar, destino)\n",
        "    print(f\"Mover disco {n} de {origem} para {destino}\")\n",
        "    # Mover n-1 discos de auxiliar para destino\n",
        "    torres_de_hanoi(n-1, auxiliar, destino, origem)\n",
        "\n",
        "# Chamada da função com 3 discos\n",
        "torres_de_hanoi(3, 'A', 'C', 'B')"
      ]
    },
    {
      "cell_type": "code",
      "execution_count": null,
      "metadata": {
        "id": "nmdYVIsABMC9"
      },
      "outputs": [],
      "source": [
        "def torres_de_hanoi_visual(n, origem, destino, auxiliar, depth=0):\n",
        "    indent = \" \" * depth * 4  # Aumenta a indentação com a profundidade da recursão\n",
        "    if n == 1:\n",
        "        print(f\"{indent}Mover disco 1 de {origem} para {destino}\")\n",
        "        return\n",
        "    # Mover n-1 discos de origem para auxiliar\n",
        "    torres_de_hanoi_visual(n-1, origem, auxiliar, destino, depth+1)\n",
        "    print(f\"{indent}Mover disco {n} de {origem} para {destino}\")\n",
        "    # Mover n-1 discos de auxiliar para destino\n",
        "    torres_de_hanoi_visual(n-1, auxiliar, destino, origem, depth+1)\n",
        "\n",
        "# Chamada da função com 3 discos\n",
        "print(\"Visualização da Árvore de Recursão para Torre de Hanoi com 3 Discos:\")\n",
        "torres_de_hanoi_visual(3, 'A', 'C', 'B')"
      ]
    },
    {
      "cell_type": "markdown",
      "metadata": {
        "id": "LgW5LOEg-JbS"
      },
      "source": [
        "A função torres_de_hanoi é chamada recursivamente para mover *n-1* discos da origem para o pino auxiliar, usando o destino como pino auxiliar temporário.\n",
        "Em seguida, move o n-ésimo disco (o maior) da origem para o destino.\n",
        "\n",
        "Por fim, a função é chamada recursivamente novamente para mover os *n-1* discos do pino auxiliar para o destino, desta vez usando a origem como pino auxiliar.\n",
        "\n",
        "Este exemplo ilustra o poder da recursão para resolver problemas que, à primeira vista, podem parecer complexos. A solução recursiva para as Torres de Hanói é tanto elegante quanto eficiente, demonstrando como grandes problemas podem ser decompostos em problemas menores mais gerenciáveis. Este caso de estudo é um excelente exemplo para ensinar os conceitos de recursão, pilha de chamadas e como abordar a resolução de problemas de maneira sistemática.\n",
        "\n",
        "**DESAFIO**\n",
        "+ Experimente executar o código com um número diferente de discos.\n",
        "+ Reflita sobre como o número de movimentos cresce com o aumento do número de discos e tente derivar a relação matemática que descreve esse crescimento."
      ]
    },
    {
      "cell_type": "markdown",
      "metadata": {
        "id": "SeSu_0GS64dj"
      },
      "source": [
        "---\n",
        "**EXERCÍCIO 01 | INVERSÃO DE STRING**\n",
        "\n",
        "Escreva uma função recursiva em Python que recebe uma string como entrada e retorna a string invertida.\n",
        "\n",
        "Instruções\n",
        "1. A função deve aceitar uma string como argumento.\n",
        "2. Não utilize métodos prontos da linguagem para inverter a string diretamente.\n",
        "3. A solução deve ser puramente recursiva."
      ]
    },
    {
      "cell_type": "code",
      "execution_count": null,
      "metadata": {
        "id": "Y6tl2QBm7JND"
      },
      "outputs": [],
      "source": []
    },
    {
      "cell_type": "markdown",
      "metadata": {
        "id": "terKBzZA7cIW"
      },
      "source": [
        "---\n",
        "**EXERCÍCIO 02 | BUSCA BINÁRIA RECURSIVA**\n",
        "\n",
        "Implementar o algoritmo de busca binária de maneira recursiva. A função deve buscar um elemento dentro de uma lista ordenada e retornar o índice do elemento, caso ele exista, ou indicar de alguma forma que o elemento não foi encontrado.\n",
        "\n",
        "Instruções\n",
        "1. A lista e o elemento a ser buscado devem ser passados como argumentos para a função.\n",
        "2. A função deve retornar o índice do elemento se ele for encontrado na lista.\n",
        "3. Caso o elemento não esteja presente na lista, a função deve retornar -1 ou uma mensagem indicativa.\n",
        "4. Assuma que a lista já está ordenada."
      ]
    },
    {
      "cell_type": "code",
      "execution_count": null,
      "metadata": {
        "id": "_lkVET9Q7rZ6"
      },
      "outputs": [],
      "source": []
    },
    {
      "cell_type": "markdown",
      "metadata": {
        "id": "tFaJvOsC7sWW"
      },
      "source": [
        "---\n",
        "**EXERCÍCIO 03 | SOMA DOS ELEMENTOS DE UMA LISTA**\n",
        "\n",
        "Criar uma função recursiva que some todos os elementos de uma lista. A função deve aceitar uma lista de números como entrada e retornar a soma de seus elementos.\n",
        "\n",
        "Instruções\n",
        "1. A lista de números deve ser passada como argumento para a função.\n",
        "2. A função deve percorrer a lista de maneira recursiva, somando cada elemento ao total.\n",
        "3. O resultado final deve ser a soma total dos elementos da lista."
      ]
    },
    {
      "cell_type": "code",
      "execution_count": null,
      "metadata": {
        "id": "HjlLJ8v875Wd"
      },
      "outputs": [],
      "source": []
    }
  ],
  "metadata": {
    "colab": {
      "private_outputs": true,
      "provenance": []
    },
    "kernelspec": {
      "display_name": "Python 3",
      "name": "python3"
    },
    "language_info": {
      "codemirror_mode": {
        "name": "ipython",
        "version": 3
      },
      "file_extension": ".py",
      "mimetype": "text/x-python",
      "name": "python",
      "nbconvert_exporter": "python",
      "pygments_lexer": "ipython3",
      "version": "3.9.4"
    }
  },
  "nbformat": 4,
  "nbformat_minor": 0
}
