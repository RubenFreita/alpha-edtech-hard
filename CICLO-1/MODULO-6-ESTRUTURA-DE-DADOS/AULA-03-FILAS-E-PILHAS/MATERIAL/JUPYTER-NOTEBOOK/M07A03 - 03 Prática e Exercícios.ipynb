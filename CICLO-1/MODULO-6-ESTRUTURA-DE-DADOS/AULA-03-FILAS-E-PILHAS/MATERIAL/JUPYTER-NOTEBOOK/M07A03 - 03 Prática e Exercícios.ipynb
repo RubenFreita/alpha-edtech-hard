{
  "nbformat": 4,
  "nbformat_minor": 0,
  "metadata": {
    "colab": {
      "private_outputs": true,
      "provenance": []
    },
    "kernelspec": {
      "name": "python3",
      "display_name": "Python 3"
    },
    "language_info": {
      "name": "python"
    }
  },
  "cells": [
    {
      "cell_type": "markdown",
      "source": [
        "**FILAS**"
      ],
      "metadata": {
        "id": "Ux7mm4v38Kjn"
      }
    },
    {
      "cell_type": "code",
      "source": [
        "class Fila:\n",
        "    def __init__(self):\n",
        "        self.itens = []\n",
        "\n",
        "    def enqueue(self, item):\n",
        "        self.itens.append(item)\n",
        "\n",
        "    def dequeue(self):\n",
        "        return self.itens.pop(0) if not self.is_empty() else None\n",
        "\n",
        "    def front(self):\n",
        "        return self.itens[0] if not self.is_empty() else None\n",
        "\n",
        "    def is_empty(self):\n",
        "        return len(self.itens) == 0\n",
        "\n",
        "    def size(self):\n",
        "        return len(self.itens)\n",
        "\n",
        "# Exemplo de uso\n",
        "fila = Fila()\n",
        "fila.enqueue(1)\n",
        "fila.enqueue(2)\n",
        "fila.enqueue(3)\n",
        "print(fila.dequeue())  # Saída: 1\n",
        "print(fila.front())    # Saída: 2"
      ],
      "metadata": {
        "id": "nfPhtQs47AAZ"
      },
      "execution_count": null,
      "outputs": []
    },
    {
      "cell_type": "markdown",
      "source": [
        "**PILHAS**"
      ],
      "metadata": {
        "id": "EewbrHJO8Iry"
      }
    },
    {
      "cell_type": "code",
      "source": [
        "class Pilha:\n",
        "    def __init__(self):\n",
        "        self.itens = []\n",
        "\n",
        "    def push(self, item):\n",
        "        self.itens.append(item)\n",
        "\n",
        "    def pop(self):\n",
        "        return self.itens.pop() if not self.is_empty() else None\n",
        "\n",
        "    def peek(self):\n",
        "        return self.itens[-1] if not self.is_empty() else None\n",
        "\n",
        "    def is_empty(self):\n",
        "        return len(self.itens) == 0\n",
        "\n",
        "    def size(self):\n",
        "        return len(self.itens)\n",
        "\n",
        "# Exemplo de uso\n",
        "pilha = Pilha()\n",
        "pilha.push('a')\n",
        "pilha.push('b')\n",
        "pilha.push('c')\n",
        "print(pilha.pop())    # Saída: 'c'\n",
        "print(pilha.peek())   # Saída: 'b'"
      ],
      "metadata": {
        "id": "9Y5U9g_U8G25"
      },
      "execution_count": null,
      "outputs": []
    },
    {
      "cell_type": "markdown",
      "source": [
        "**COMPARANDO A EXECUÇÃO FILA X PILHA**"
      ],
      "metadata": {
        "id": "GA3lDrqg9HF_"
      }
    },
    {
      "cell_type": "code",
      "source": [
        "import time\n",
        "\n",
        "class Fila:\n",
        "    def __init__(self):\n",
        "        self.itens = []\n",
        "\n",
        "    def enqueue(self, item):\n",
        "        self.itens.append(item)\n",
        "\n",
        "    def dequeue(self):\n",
        "        if self.itens:\n",
        "            return self.itens.pop(0)\n",
        "\n",
        "class Pilha:\n",
        "    def __init__(self):\n",
        "        self.itens = []\n",
        "\n",
        "    def push(self, item):\n",
        "        self.itens.append(item)\n",
        "\n",
        "    def pop(self):\n",
        "        if self.itens:\n",
        "            return self.itens.pop()\n",
        "\n",
        "# Processamento de Fila\n",
        "inicio_tempo_fila = time.time()\n",
        "fila = Fila()\n",
        "for i in range(100000):\n",
        "    fila.enqueue(i)\n",
        "\n",
        "while fila.itens:\n",
        "    fila.dequeue()\n",
        "fim_tempo_fila = time.time()\n",
        "\n",
        "# Processamento de Pilha\n",
        "inicio_tempo_pilha = time.time()\n",
        "pilha = Pilha()\n",
        "for i in range(100000):\n",
        "    pilha.push(i)\n",
        "\n",
        "while pilha.itens:\n",
        "    pilha.pop()\n",
        "fim_tempo_pilha = time.time()\n",
        "\n",
        "# Imprimindo o tempo de execução\n",
        "print(f\"Tempo de execução da Fila: {fim_tempo_fila - inicio_tempo_fila} segundos\")\n",
        "print(f\"Tempo de execução da Pilha: {fim_tempo_pilha - inicio_tempo_pilha} segundos\")"
      ],
      "metadata": {
        "id": "wY0DsJ619KLM"
      },
      "execution_count": null,
      "outputs": []
    },
    {
      "cell_type": "markdown",
      "source": [
        "---\n",
        "**CONHECENDO A BIBLIOTECA COLLECTIONS**\n",
        "\n",
        "Podemos utilizar alguns recursos da biblioteca collections para otimizar o processo de uso das estruturas de dados de filas e pilhas em nossos códigos."
      ],
      "metadata": {
        "id": "93Rp652j_mqb"
      }
    },
    {
      "cell_type": "code",
      "source": [
        "# DEQUE como fila\n",
        "from collections import deque\n",
        "\n",
        "fila = deque()\n",
        "\n",
        "# Enfileirar é eficiente\n",
        "fila.append('item1')  # O(1) para adicionar no final\n",
        "fila.append('item2')\n",
        "\n",
        "# Desenfileirar é igualmente eficiente\n",
        "item = fila.popleft()  # O(1) para remover do início\n",
        "\n",
        "print(fila)"
      ],
      "metadata": {
        "id": "NR5ePfvA_l8X"
      },
      "execution_count": null,
      "outputs": []
    },
    {
      "cell_type": "code",
      "source": [
        "# DEQUE como pilha\n",
        "pilha = deque()\n",
        "\n",
        "# Empilhar\n",
        "pilha.append('item1')  # O(1) para adicionar no final\n",
        "pilha.append('item2')\n",
        "\n",
        "# Desempilhar\n",
        "item = pilha.pop()  # O(1) para remover do final\n",
        "\n",
        "print(pilha)"
      ],
      "metadata": {
        "id": "nHiD635L_7_4"
      },
      "execution_count": null,
      "outputs": []
    },
    {
      "cell_type": "code",
      "source": [
        "# Utilizando Counter para contar ocorrências de elementos\n",
        "from collections import Counter\n",
        "\n",
        "# Contando a ocorrência de cada elemento\n",
        "contagem = Counter(['apple', 'orange', 'apple', 'pear', 'orange', 'banana', 'apple'])\n",
        "\n",
        "# Mostra a contagem de cada elemento\n",
        "print(contagem)  # Counter({'apple': 2, 'orange': 2, 'pear': 1, 'banana': 1})"
      ],
      "metadata": {
        "id": "0j_MdhqXASPB"
      },
      "execution_count": null,
      "outputs": []
    },
    {
      "cell_type": "markdown",
      "source": [
        "---\n",
        "**EXERCÍCIOS**\n",
        "\n",
        "1) Você está desenvolvendo um sistema para um centro de atendimento ao cliente de uma clínica médica. O centro funciona com base em uma fila de atendimento, onde os clientes são atendidos na ordem em que chegam. O objetivo é gerenciar essa fila de forma eficiente, garantindo que o primeiro cliente a chegar seja o primeiro a ser atendido, seguindo o princípio FIFO.\n",
        "\n",
        "O sistema deve ser capaz de:\n",
        "+ Adicionar clientes à fila de espera.\n",
        "+ Chamar o próximo cliente para atendimento.\n",
        "+ Mostrar o cliente atualmente em atendimento.\n",
        "+ Verificar se a fila de espera está vazia.\n",
        "+ Exibir todos os clientes na fila de espera.\n",
        "\n",
        "**DESAFIO**\n",
        "+ Assuma que cada atendimento é realizado em no máximo até 10 minutos\n",
        "+ O tempo de atendimento deve ser registrado antes do cliente sair da fila para ser atendido\n",
        "+ Cada atendimento terá o tempo calculado randomicamente no momento em que um cliente sair da fila para ser atendido\n",
        "\n",
        "```\n",
        "# Considere a utilização da biblioteca random\n",
        "from random import randint\n",
        "randint(1, 10) # Gera número randômico entre o mínimo e máximo\n",
        "```\n",
        "\n",
        "+ Quando cada cliente chegar a fila será registrado seu tempo de espera considerando os tempos dos clientes que estão à sua frente\n",
        "+ Quando um cliente sair da fila para ser atendido, o tempo de espera dos outros clientes deve ser atualizado com base no tempo de atendimento calculado para o cliente que saiu\n",
        "\n",
        "**QUAL SERÁ O TEMPO TOTAL DE ESPERA DO 20º CLIENTE A SER ATENDIDO?**\n",
        "\n",
        "*Indique o tempo máximo que este cliente poderia ter tido, e o tempo real de atendimento com base no cálculo*\n"
      ],
      "metadata": {
        "id": "dg-Yi3ejzxtq"
      }
    },
    {
      "cell_type": "code",
      "execution_count": null,
      "metadata": {
        "id": "epCGO8AB8RO5"
      },
      "outputs": [],
      "source": []
    }
  ]
}