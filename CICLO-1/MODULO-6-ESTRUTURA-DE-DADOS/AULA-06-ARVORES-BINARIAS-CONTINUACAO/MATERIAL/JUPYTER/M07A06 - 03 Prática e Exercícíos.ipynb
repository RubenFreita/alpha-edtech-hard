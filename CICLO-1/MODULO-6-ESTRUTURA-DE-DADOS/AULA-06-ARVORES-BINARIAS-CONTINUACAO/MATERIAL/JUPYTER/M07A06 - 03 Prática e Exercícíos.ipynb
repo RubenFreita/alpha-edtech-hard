{
  "nbformat": 4,
  "nbformat_minor": 0,
  "metadata": {
    "colab": {
      "private_outputs": true,
      "provenance": []
    },
    "kernelspec": {
      "name": "python3",
      "display_name": "Python 3"
    },
    "language_info": {
      "name": "python"
    }
  },
  "cells": [
    {
      "cell_type": "markdown",
      "source": [
        "**OPERAÇÕES COM ÁRVORES BINÁRIAS**\n",
        "\n",
        "+ **INSERÇÃO:** operação para inserir um novo nó na árvore\n",
        "+ **BUSCA:** operação utilizada para encontrar um elemento na árvire binária\n",
        "+ **DELEÇÃO:** operação de remoção de um nó da árvore e ajuste dos nós restantes."
      ],
      "metadata": {
        "id": "rOH5_AXa8g_e"
      }
    },
    {
      "cell_type": "code",
      "execution_count": null,
      "metadata": {
        "id": "SpqR19jH8bOg"
      },
      "outputs": [],
      "source": [
        "class Node:\n",
        "    def __init__(self, key):\n",
        "        self.left = None\n",
        "        self.right = None\n",
        "        self.val = key\n",
        "\n",
        "class BST:\n",
        "    def __init__(self):\n",
        "        self.root = None\n",
        "\n",
        "    def insert(self, key):\n",
        "        if self.root is None:\n",
        "            self.root = Node(key)\n",
        "        else:\n",
        "            self._insert_recursive(self.root, key)\n",
        "\n",
        "    def _insert_recursive(self, current, key):\n",
        "        if key < current.val:\n",
        "            if current.left is None:\n",
        "                current.left = Node(key)\n",
        "            else:\n",
        "                self._insert_recursive(current.left, key)\n",
        "        elif key > current.val:\n",
        "            if current.right is None:\n",
        "                current.right = Node(key)\n",
        "            else:\n",
        "                self._insert_recursive(current.right, key)\n",
        "\n",
        "    def search(self, key):\n",
        "        return self._search_recursive(self.root, key)\n",
        "\n",
        "    def _search_recursive(self, current, key):\n",
        "        if current is None or current.val == key:\n",
        "            return current is not None\n",
        "        if key < current.val:\n",
        "            return self._search_recursive(current.left, key)\n",
        "        return self._search_recursive(current.right, key)\n",
        "\n",
        "    def delete(self, key):\n",
        "        self.root = self._delete_recursive(self.root, key)\n",
        "\n",
        "    def _delete_recursive(self, current, key):\n",
        "        if current is None:\n",
        "            return current\n",
        "        if key < current.val:\n",
        "            current.left = self._delete_recursive(current.left, key)\n",
        "        elif key > current.val:\n",
        "            current.right = self._delete_recursive(current.right, key)\n",
        "        else:\n",
        "            if current.left is None:\n",
        "                return current.right\n",
        "            elif current.right is None:\n",
        "                return current.left\n",
        "            current.val = self._get_min_value_node(current.right).val\n",
        "            current.right = self._delete_recursive(current.right, current.val)\n",
        "        return current\n",
        "\n",
        "    def _get_min_value_node(self, current):\n",
        "        while current.left is not None:\n",
        "            current = current.left\n",
        "        return current\n",
        "\n",
        "    def print_tree(self):\n",
        "        levels = self._get_levels(self.root)\n",
        "        for level in levels:\n",
        "            print(' '.join([str(node.val) if node else '*' for node in level]))\n",
        "\n",
        "    def _get_levels(self, root):\n",
        "        if not root:\n",
        "            return []\n",
        "        levels = []\n",
        "        level = [root]\n",
        "        while any(level):\n",
        "            levels.append(level)\n",
        "            next_level = []\n",
        "            for node in level:\n",
        "                next_level.extend([node.left if node else None, node.right if node else None])\n",
        "            level = next_level\n",
        "        return levels"
      ]
    },
    {
      "cell_type": "code",
      "source": [
        "# Testando a Árvore Binária de Busca\n",
        "bst = BST()\n",
        "bst.insert(8)\n",
        "bst.insert(4)\n",
        "bst.insert(2)\n",
        "bst.insert(1)\n",
        "bst.insert(3)\n",
        "bst.insert(6)\n",
        "bst.insert(5)\n",
        "bst.insert(7)\n",
        "bst.insert(12)\n",
        "bst.insert(10)\n",
        "bst.insert(9)\n",
        "bst.insert(11)\n",
        "bst.insert(14)\n",
        "bst.insert(13)\n",
        "bst.insert(15)\n",
        "bst.insert(18)\n",
        "bst.insert(25)\n",
        "bst.insert(30)\n",
        "\n",
        "bst.print_tree()"
      ],
      "metadata": {
        "id": "RngEBfvAW-ue"
      },
      "execution_count": null,
      "outputs": []
    },
    {
      "cell_type": "code",
      "source": [
        "print(\"Busca por 60:\", bst.search(60))"
      ],
      "metadata": {
        "id": "0q_vtG4BXHWG"
      },
      "execution_count": null,
      "outputs": []
    },
    {
      "cell_type": "code",
      "source": [
        "print(\"Busca por 25:\", bst.search(25))"
      ],
      "metadata": {
        "id": "TOhFGJEcXWeA"
      },
      "execution_count": null,
      "outputs": []
    },
    {
      "cell_type": "code",
      "source": [
        "bst.delete(14)\n",
        "bst.print_tree()"
      ],
      "metadata": {
        "id": "BHn5J1TTXJzs"
      },
      "execution_count": null,
      "outputs": []
    }
  ]
}