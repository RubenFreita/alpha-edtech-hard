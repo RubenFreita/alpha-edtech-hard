{
  "nbformat": 4,
  "nbformat_minor": 0,
  "metadata": {
    "colab": {
      "private_outputs": true,
      "provenance": []
    },
    "kernelspec": {
      "name": "python3",
      "display_name": "Python 3"
    },
    "language_info": {
      "name": "python"
    }
  },
  "cells": [
    {
      "cell_type": "markdown",
      "source": [
        "**LISTA DE ADJACÊNCIA**\n",
        "\n",
        "A lista de adjacência é uma forma de representar grafos, onde cada vértice do grafo mantém uma lista dos vértices aos quais está conectado."
      ],
      "metadata": {
        "id": "pR4Y4fCKqk5t"
      }
    },
    {
      "cell_type": "code",
      "execution_count": null,
      "metadata": {
        "id": "lK-FBzYsN6Yl"
      },
      "outputs": [],
      "source": [
        "class GraphList:\n",
        "    def __init__(self, vertices):\n",
        "        self.vertices = vertices\n",
        "        self.adjacency_list = [[] for _ in range(vertices)]\n",
        "\n",
        "    def add_edge(self, source, target):\n",
        "        self.adjacency_list[source].append(target)\n",
        "        self.adjacency_list[target].append(source)  # Para grafos não dirigidos\n",
        "\n",
        "    def display(self):\n",
        "        for i, adj_list in enumerate(self.adjacency_list):\n",
        "            print(f\"Vértice {i}: {adj_list}\")\n",
        "\n",
        "# Exemplo de uso\n",
        "graph_list = GraphList(4)\n",
        "graph_list.add_edge(0, 1)\n",
        "graph_list.add_edge(0, 2)\n",
        "graph_list.add_edge(1, 2)\n",
        "graph_list.add_edge(2, 3)\n",
        "\n",
        "print(\"Lista de Adjacência:\")\n",
        "graph_list.display()\n"
      ]
    },
    {
      "cell_type": "markdown",
      "source": [
        "**MATRIZ DE ADJACÊNCIA**\n",
        "\n",
        "A matriz de adjacência é uma forma de representar grafos onde as linhas e colunas da matriz correspondem aos vértices do grafo, e as células da matriz indicam se existe uma aresta entre os vértices."
      ],
      "metadata": {
        "id": "Bq6fkKmmq45w"
      }
    },
    {
      "cell_type": "code",
      "source": [
        "class GraphMatrix:\n",
        "    def __init__(self, vertices):\n",
        "        self.vertices = vertices\n",
        "        self.adjacency_matrix = [[0] * vertices for _ in range(vertices)]\n",
        "\n",
        "    def add_edge(self, source, target):\n",
        "        self.adjacency_matrix[source][target] = 1\n",
        "        self.adjacency_matrix[target][source] = 1  # Para grafos não dirigidos\n",
        "\n",
        "    def display(self):\n",
        "        for row in self.adjacency_matrix:\n",
        "            print(row)\n",
        "\n",
        "# Exemplo de uso\n",
        "graph_matrix = GraphMatrix(4)\n",
        "graph_matrix.add_edge(0, 1)\n",
        "graph_matrix.add_edge(0, 2)\n",
        "graph_matrix.add_edge(1, 2)\n",
        "graph_matrix.add_edge(2, 3)\n",
        "\n",
        "print(\"Matriz de Adjacência:\")\n",
        "graph_matrix.display()\n"
      ],
      "metadata": {
        "id": "Vzb9KLqmq-A5"
      },
      "execution_count": null,
      "outputs": []
    },
    {
      "cell_type": "markdown",
      "source": [
        "**BUSCA EM LARGURA (BFS)**\n",
        "\n",
        "O BFS explora o grafo nível por nível, partindo de um vértice fonte. É particularmente útil para encontrar o caminho mais curto em grafos não ponderados."
      ],
      "metadata": {
        "id": "CLv_zngdyJ3r"
      }
    },
    {
      "cell_type": "code",
      "source": [
        "from collections import deque\n",
        "\n",
        "class Graph:\n",
        "    def __init__(self):\n",
        "        self.graph = {}\n",
        "\n",
        "    def add_edge(self, u, v):\n",
        "        if u not in self.graph:\n",
        "            self.graph[u] = []\n",
        "        if v not in self.graph:\n",
        "            self.graph[v] = []\n",
        "        self.graph[u].append(v)\n",
        "        self.graph[v].append(u)  # Considerando grafo não dirigido para simplificação\n",
        "\n",
        "    def bfs(self, start):\n",
        "        visited = set()\n",
        "        queue = deque([start])\n",
        "\n",
        "        visited.add(start)\n",
        "        while queue:\n",
        "            vertex = queue.popleft()\n",
        "            print(vertex, end=' ')\n",
        "            for neighbour in self.graph[vertex]:\n",
        "                if neighbour not in visited:\n",
        "                    visited.add(neighbour)\n",
        "                    queue.append(neighbour)\n",
        "\n",
        "# Exemplo de uso\n",
        "g = Graph()\n",
        "g.add_edge(0, 1)\n",
        "g.add_edge(0, 2)\n",
        "g.add_edge(1, 2)\n",
        "g.add_edge(2, 3)\n",
        "g.add_edge(3, 3)\n",
        "\n",
        "print(\"Busca em Largura a partir do vértice 2:\")\n",
        "g.bfs(2)\n"
      ],
      "metadata": {
        "id": "JgrrzngRyPL1"
      },
      "execution_count": null,
      "outputs": []
    },
    {
      "cell_type": "markdown",
      "source": [
        "**BUSCA EM PROFUNDIDADE (DFS)**\n",
        "\n",
        "O DFS explora o grafo seguindo tão profundamente quanto possível através de cada ramo antes de retroceder, útil para situações que requerem exploração completa do grafo."
      ],
      "metadata": {
        "id": "D0yq28UgyTbP"
      }
    },
    {
      "cell_type": "code",
      "source": [
        "class Graph:\n",
        "    def __init__(self):\n",
        "        self.graph = {}\n",
        "\n",
        "    def add_edge(self, u, v):\n",
        "        if u not in self.graph:\n",
        "            self.graph[u] = []\n",
        "        self.graph[u].append(v)\n",
        "        # Como é um grafo não dirigido, adicionamos a aresta inversa também.\n",
        "        if v not in self.graph:\n",
        "            self.graph[v] = []\n",
        "        self.graph[v].append(u)\n",
        "\n",
        "    def dfs_util(self, v, visited):\n",
        "        visited.add(v)\n",
        "        print(v, end=' ')\n",
        "\n",
        "        for neighbour in self.graph[v]:\n",
        "            if neighbour not in visited:\n",
        "                self.dfs_util(neighbour, visited)\n",
        "\n",
        "    def dfs(self, v):\n",
        "        visited = set()\n",
        "        self.dfs_util(v, visited)\n",
        "\n",
        "# Exemplo de uso\n",
        "g = Graph()\n",
        "g.add_edge(0, 1)\n",
        "g.add_edge(0, 2)\n",
        "g.add_edge(1, 2)\n",
        "g.add_edge(2, 3)\n",
        "g.add_edge(3, 3)\n",
        "\n",
        "print(\"\\nBusca em Profundidade a partir do vértice 2:\")\n",
        "g.dfs(2)\n"
      ],
      "metadata": {
        "id": "8h8l17JbyZgU"
      },
      "execution_count": null,
      "outputs": []
    },
    {
      "cell_type": "markdown",
      "source": [
        "---\n",
        "**Exercício 1: Implementação de Algoritmo BFS**\n",
        "\n",
        "Implemente o algoritmo de Busca em Largura (BFS) para um grafo representado por uma lista de adjacência.\n",
        "\n",
        "O algoritmo deve ser capaz de:\n",
        "+ Partir de um vértice inicial dado.\n",
        "+ Visitar todos os vértices alcançáveis a partir do vértice inicial, seguindo a ordem de menor número de arestas possível (largura antes de profundidade).\n",
        "+ Imprimir a ordem de visitação dos vértices.\n",
        "\n",
        "Entrada: Uma lista de adjacências representando o grafo. Um vértice inicial.\n",
        "\n",
        "```\n",
        "grafo = {0: [1, 2], 1: [2], 2: [0, 3], 3: [3]}\n",
        "vértice_inicial = 2\n",
        "```\n",
        "\n",
        "Saída: A ordem de visitação dos vértices a partir do vértice inicial.\n",
        "\n",
        "```\n",
        "2 0 3 1\n",
        "```\n",
        "\n",
        "**Dica:** Utilize uma fila para controlar os vértices a serem visitados e um conjunto para marcar os vértices já visitados."
      ],
      "metadata": {
        "id": "u9dY9Cw10msG"
      }
    },
    {
      "cell_type": "markdown",
      "source": [
        "---\n",
        "**Exercício 2: Detecção de Ciclo em Grafo Dirigido**\n",
        "\n",
        "Escreva uma função em Python que detecte a presença de um ciclo em um grafo dirigido. O grafo será representado por uma lista de adjacências, e sua função deve:\n",
        "\n",
        "Determinar se o grafo contém pelo menos um ciclo.\n",
        "Retornar True se um ciclo for encontrado e False caso contrário.\n",
        "\n",
        "Entrada: Uma lista de adjacências representando o grafo dirigido.\n",
        "\n",
        "```\n",
        "grafo = {0: [1], 1: [2], 2: [0, 3], 3: []}\n",
        "```\n",
        "\n",
        "Saída: Um valor booleano indicando a presença de um ciclo.\n",
        "\n",
        "```\n",
        "True\n",
        "```\n",
        "\n",
        "**Dica:** Considere usar uma abordagem de busca em profundidade (DFS) com um conjunto para marcar os vértices visitados e outro conjunto para acompanhar a pilha de recursão. Um ciclo é encontrado se um vértice já está na pilha de recursão quando tentamos visitá-lo novamente.\n",
        "\n"
      ],
      "metadata": {
        "id": "EsYVCrgG1Nyp"
      }
    }
  ]
}