{
  "cells": [
    {
      "cell_type": "markdown",
      "metadata": {
        "id": "Ra_dig24NCsJ"
      },
      "source": [
        "**LISTA ENCADEADA SIMPLES**\n",
        "\n",
        "Listas encadeadas são estruturas de dados fundamentais em programação, usadas para armazenar coleções de elementos de forma sequencial. No entanto, diferentemente dos arrays, os elementos em uma lista encadeada, chamados de nós, não são armazenados em locais de memória contíguos. Cada nó em uma lista encadeada consiste em duas partes: uma parte que armazena os dados (valor do nó) e outra que guarda a referência (ou ponteiro) para o próximo nó na sequência.\n",
        "\n",
        "**CARACTERÍSTICAS**\n",
        "\n",
        "+ Flexibilidade no Armazenamento de Dados: Listas encadeadas podem crescer dinamicamente, não havendo necessidade de definir um tamanho fixo no momento da criação.\n",
        "\n",
        "+ Eficiência em Inserções e Deleções: Inserir ou remover um elemento de uma lista encadeada é geralmente mais eficiente que em um array, pois não requer realocação ou reorganização de outros elementos.\n",
        "\n",
        "+ Uso de Memória: Cada nó em uma lista encadeada requer espaço adicional para armazenar o endereço do próximo nó."
      ]
    },
    {
      "cell_type": "code",
      "execution_count": null,
      "metadata": {
        "id": "xt6F0wBnNCWF"
      },
      "outputs": [],
      "source": [
        "class Node:\n",
        "    def __init__(self, data):\n",
        "        self.data = data\n",
        "        self.next = None\n",
        "\n",
        "class LinkedList:\n",
        "    def __init__(self):\n",
        "        self.head = None\n",
        "\n",
        "    # Inserção no início\n",
        "    def insert_at_beginning(self, data):\n",
        "        new_node = Node(data)\n",
        "        new_node.next = self.head\n",
        "        self.head = new_node\n",
        "\n",
        "    # Inserção no final\n",
        "    def insert_at_end(self, data):\n",
        "        new_node = Node(data)\n",
        "        if self.head is None:\n",
        "            self.head = new_node\n",
        "            return\n",
        "        last = self.head\n",
        "        while last.next:\n",
        "            last = last.next\n",
        "        last.next = new_node\n",
        "\n",
        "    # Busca de um elemento\n",
        "    def search(self, key):\n",
        "        print('=== SEARCH ===')\n",
        "        current = self.head\n",
        "        while current:\n",
        "            print(f'Data: {current.data} / Next: {current.next}')\n",
        "            if current.data == key:\n",
        "                return True\n",
        "            current = current.next\n",
        "        return False\n",
        "\n",
        "    # Deleção de um elemento\n",
        "    def delete(self, key):\n",
        "        current = self.head\n",
        "        previous = None\n",
        "        while current and current.data != key:\n",
        "            previous = current\n",
        "            current = current.next\n",
        "        if current is None:\n",
        "            return False\n",
        "        if previous is None:\n",
        "            self.head = current.next\n",
        "        else:\n",
        "            previous.next = current.next\n",
        "        return True\n",
        "\n",
        "    # Travessia da lista\n",
        "    def display(self):\n",
        "        elements = []\n",
        "        current = self.head\n",
        "        while current:\n",
        "            elements.append(current.data)\n",
        "            current = current.next\n",
        "        return elements\n",
        "\n",
        "# Testando a Lista Encadeada\n",
        "ll = LinkedList()\n",
        "print(ll.display())  # Saída: []\n",
        "ll.insert_at_beginning(3)\n",
        "print(ll.display())  # Saída: [2]\n",
        "ll.insert_at_beginning(2)\n",
        "print(ll.display())  # Saída: [2, 3]\n",
        "ll.insert_at_end(4)\n",
        "print(ll.display())  # Saída: [2, 3, 4]\n",
        "ll.insert_at_end(5)\n",
        "\n",
        "print(ll.display())  # Saída: [2, 3, 4, 5]\n"
      ]
    },
    {
      "cell_type": "code",
      "execution_count": 11,
      "metadata": {},
      "outputs": [
        {
          "name": "stdout",
          "output_type": "stream",
          "text": [
            "[2. 1. 2. 3. 4. 5.]\n",
            "[2.]\n"
          ]
        }
      ],
      "source": [
        "import numpy as np\n",
        "\n",
        "array = np.array([])\n",
        "array = np.append(array, 2)\n",
        "print(np.append(array, [1,2,3,4,5]))\n",
        "print(array)\n",
        "# array1 = np.delete(array, 1)\n",
        "# print(array)\n",
        "# print(array1)"
      ]
    },
    {
      "cell_type": "code",
      "execution_count": null,
      "metadata": {
        "id": "JzU9wOrxOh23"
      },
      "outputs": [],
      "source": [
        "# Busca por elemento existente na lista\n",
        "searchData = 4\n",
        "print(f\"Busca por {searchData}:\", ll.search(searchData))   # Saída: True"
      ]
    },
    {
      "cell_type": "code",
      "execution_count": null,
      "metadata": {
        "id": "AjrHJEyMPba_"
      },
      "outputs": [],
      "source": [
        "# Busca por elemento inexistente na lista\n",
        "searchData = 6\n",
        "print(f\"Busca por {searchData}:\", ll.search(searchData))   # Saída: False"
      ]
    },
    {
      "cell_type": "code",
      "execution_count": null,
      "metadata": {
        "id": "6dxIfazcPotx"
      },
      "outputs": [],
      "source": [
        "# Deleta elemento intermediário na lista\n",
        "ll.delete(3)\n",
        "print(\"Lista após deletar 3:\", ll.display())  # Saída: [2, 4, 5]"
      ]
    },
    {
      "cell_type": "markdown",
      "metadata": {
        "id": "Wj1mUmvPQJ3X"
      },
      "source": [
        "---\n",
        "**DESAFIO #01**\n",
        "\n",
        "Como mostrar o valor do conteúdo do próximo nó ao invés do endereço de memória no método search?\n",
        "\n",
        "---"
      ]
    },
    {
      "cell_type": "markdown",
      "metadata": {
        "id": "-fexBV1aT0Mo"
      },
      "source": [
        "**LISTA ENCADEADA DUPLA**\n",
        "\n",
        "As listas encadeadas duplas são uma variação avançada das listas encadeadas simples. Enquanto nas listas simples cada nó contém um dado e um ponteiro para o próximo nó, nas listas encadeadas duplas, cada nó possui dois ponteiros: um para o nó seguinte e outro para o nó anterior. Esta característica adicional oferece maior flexibilidade e eficiência em certas operações.\n",
        "\n",
        "**CARACTERÍSTICAS**\n",
        "\n",
        "+ Nó Duplamente Vinculado: cada nó em uma lista encadeada dupla contém três partes: uma seção de dados e dois ponteiros (links). O primeiro ponteiro aponta para o próximo nó na lista, enquanto o segundo aponta para o nó anterior.\n",
        "\n",
        "+ Cabeçalho e Cauda: a lista tem um nó de cabeçalho (head) que marca o início da lista e um nó de cauda (tail) que marca o fim. Em uma lista vazia, tanto head quanto tail são null.\n",
        "\n",
        "+ Travessia Bidirecional: diferentemente das listas encadeadas simples, as listas duplas permitem a travessia tanto na direção frente quanto na direção reversa, proporcionando uma maior flexibilidade na navegação pela lista.\n",
        "\n",
        "+ Inserção e Remoção Eficientes: inserções e remoções podem ser mais eficientes em comparação com listas encadeadas simples, pois não é necessário percorrer a lista para encontrar o nó anterior ao ponto de inserção ou remoção.\n",
        "\n",
        "+ Uso de Memória: Cada nó em uma lista encadeada dupla consome mais memória que um nó em uma lista simples devido ao ponteiro adicional."
      ]
    },
    {
      "cell_type": "code",
      "execution_count": 1,
      "metadata": {
        "id": "dSZ5wduiQpug"
      },
      "outputs": [
        {
          "name": "stdout",
          "output_type": "stream",
          "text": [
            "[]\n",
            "[3]\n",
            "[2, 3]\n",
            "[2, 3, 4]\n",
            "[2, 3, 4, 5]\n"
          ]
        }
      ],
      "source": [
        "class Node:\n",
        "    def __init__(self, data):\n",
        "        self.data = data\n",
        "        self.prev = None\n",
        "        self.next = None\n",
        "\n",
        "class DoublyLinkedList:\n",
        "    def __init__(self):\n",
        "        self.head = None\n",
        "\n",
        "    # Inserção no início\n",
        "    def insert_at_beginning(self, data):\n",
        "        new_node = Node(data)\n",
        "        new_node.next = self.head\n",
        "        if self.head is not None:\n",
        "            self.head.prev = new_node\n",
        "        self.head = new_node\n",
        "\n",
        "    # Inserção no final\n",
        "    def insert_at_end(self, data):\n",
        "        new_node = Node(data)\n",
        "        if self.head is None:\n",
        "            self.head = new_node\n",
        "            return\n",
        "        last = self.head\n",
        "        while last.next:\n",
        "            last = last.next\n",
        "        last.next = new_node\n",
        "        new_node.prev = last\n",
        "\n",
        "    # Busca de um elemento\n",
        "    def search(self, key):\n",
        "        print('=== SEARCH ===')\n",
        "        current = self.head\n",
        "        while current:\n",
        "            print(f'Previous: {current.prev} / Data: {current.data} / Next: {current.next}')\n",
        "            if current.data == key:\n",
        "                return True\n",
        "            current = current.next\n",
        "        return False\n",
        "\n",
        "    # Deleção de um elemento\n",
        "    def delete(self, key):\n",
        "        current = self.head\n",
        "        while current:\n",
        "            if current.data == key:\n",
        "                if current.prev:\n",
        "                    current.prev.next = current.next\n",
        "                if current.next:\n",
        "                    current.next.prev = current.prev\n",
        "                if current == self.head:  # Se for o primeiro nó\n",
        "                    self.head = current.next\n",
        "                return True\n",
        "            current = current.next\n",
        "        return False\n",
        "\n",
        "    # Travessia da lista\n",
        "    def display(self):\n",
        "        elements = []\n",
        "        current = self.head\n",
        "        while current:\n",
        "            elements.append(current.data)\n",
        "            current = current.next\n",
        "        return elements\n",
        "\n",
        "# Testando a Lista Encadeada Dupla\n",
        "dll = DoublyLinkedList()\n",
        "print(dll.display())\n",
        "dll.insert_at_beginning(3)\n",
        "print(dll.display())\n",
        "dll.insert_at_beginning(2)\n",
        "print(dll.display())\n",
        "dll.insert_at_end(4)\n",
        "print(dll.display())\n",
        "dll.insert_at_end(5)\n",
        "print(dll.display())"
      ]
    },
    {
      "cell_type": "code",
      "execution_count": null,
      "metadata": {
        "id": "Z-lShLKEUJmU"
      },
      "outputs": [],
      "source": [
        "# Busca por elemento existente na lista\n",
        "searchData = 4\n",
        "print(f\"Busca por {searchData}:\", dll.search(searchData))   # Saída: True"
      ]
    },
    {
      "cell_type": "code",
      "execution_count": null,
      "metadata": {
        "id": "cFW4mcvOUbOa"
      },
      "outputs": [],
      "source": [
        "# Busca por elemento inexistente na lista\n",
        "searchData = 6\n",
        "print(f\"Busca por {searchData}:\", dll.search(searchData))   # Saída: False"
      ]
    },
    {
      "cell_type": "code",
      "execution_count": 2,
      "metadata": {
        "id": "KCgkY9BbUc8a"
      },
      "outputs": [
        {
          "name": "stdout",
          "output_type": "stream",
          "text": [
            "Lista após deletar 3: []\n"
          ]
        }
      ],
      "source": [
        "# Deleta elemento intermediário na lista\n",
        "dll.delete(3)\n",
        "dll.delete(2)\n",
        "dll.delete(4)\n",
        "dll.delete(5)\n",
        "print(\"Lista após deletar 3:\", dll.display())  # Saída: [2, 4, 5]"
      ]
    },
    {
      "cell_type": "markdown",
      "metadata": {
        "id": "5vSb57l3VH4W"
      },
      "source": [
        "---\n",
        "**DESAFIO #02**\n",
        "\n",
        "Como mostrar o valor do conteúdo dos nós anterior e próximo ao invés do endereço de memória no método SEARCH?\n",
        "\n",
        "---"
      ]
    },
    {
      "cell_type": "markdown",
      "metadata": {
        "id": "Fefl5AVeVtBk"
      },
      "source": [
        "# **Exercício Prático: Sistema de Gerenciamento de Playlist de Músicas**\n",
        "\n",
        "**Descrição do Problema**\n",
        "\n",
        "Você está criando um sistema para gerenciar uma playlist de músicas. Este sistema deve permitir adicionar músicas, remover músicas, pular para a próxima música, retornar à música anterior e listar todas as músicas na playlist. Para este exercício, utilize uma Lista Encadeada Dupla, onde cada nó representa uma música.\n",
        "\n",
        "**Objetivos do Exercício**\n",
        "\n",
        "+ Implementar uma Lista Encadeada Dupla: cada nó deve conter o nome da música e ponteiros para a música anterior e próxima.\n",
        "\n",
        "+ Adicionar Músicas: implementar uma função para adicionar uma nova música ao final da playlist.\n",
        "\n",
        "+ Remover Músicas: implementar uma função para remover uma música específica da playlist pelo nome.\n",
        "\n",
        "+ Pular para a Próxima Música: implementar uma função para mover a \"música atual\" para a próxima na lista.\n",
        "\n",
        "+ Retornar à Música Anterior: implementar uma função que permite voltar à música anterior na playlist.\n",
        "\n",
        "+ Listar Músicas: implementar uma função para exibir todas as músicas na playlist.\n",
        "\n",
        "+ Interface de Usuário Simples: criar uma interface simples no terminal para interagir com o sistema de playlist.\n",
        "\n",
        "**Atividades**\n",
        "\n",
        "+ Complete a implementação da classe MusicPlaylist, adicionando as funcionalidades descritas.\n",
        "\n",
        "+ Teste cada funcionalidade para garantir que a playlist pode ser manipulada corretamente."
      ]
    },
    {
      "cell_type": "code",
      "execution_count": null,
      "metadata": {
        "id": "MOcjkZgBWTZt"
      },
      "outputs": [],
      "source": [
        "class MusicNode:\n",
        "    def __init__(self, name):\n",
        "        self.name = name\n",
        "        self.next = None\n",
        "        self.prev = None\n",
        "\n",
        "class MusicPlaylist:\n",
        "    def __init__(self):\n",
        "        self.head = None\n",
        "        self.tail = None\n",
        "        self.current = None  # Ponteiro para a música atual\n",
        "\n",
        "    # Métodos a serem implementados pelos alunos\n",
        "    # add_music, remove_music, next_song, previous_song, display_playlist\n",
        "\n",
        "# Exemplo de Uso:\n",
        "playlist = MusicPlaylist()\n",
        "playlist.add_music(\"\")\n",
        "playlist.add_music(\"Song 2\")\n",
        "playlist.add_music(\"Song 3\")\n",
        "playlist.display_playlist()\n"
      ]
    }
  ],
  "metadata": {
    "colab": {
      "private_outputs": true,
      "provenance": []
    },
    "kernelspec": {
      "display_name": "Python 3",
      "name": "python3"
    },
    "language_info": {
      "codemirror_mode": {
        "name": "ipython",
        "version": 3
      },
      "file_extension": ".py",
      "mimetype": "text/x-python",
      "name": "python",
      "nbconvert_exporter": "python",
      "pygments_lexer": "ipython3",
      "version": "3.9.4"
    }
  },
  "nbformat": 4,
  "nbformat_minor": 0
}
