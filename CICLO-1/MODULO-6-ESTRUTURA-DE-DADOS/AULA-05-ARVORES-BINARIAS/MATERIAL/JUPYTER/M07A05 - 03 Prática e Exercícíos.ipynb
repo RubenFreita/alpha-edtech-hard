{
  "cells": [
    {
      "cell_type": "markdown",
      "metadata": {
        "id": "Mi83i_aOmaRd"
      },
      "source": [
        "**ÁRVORES BINÁRIAS**\n",
        "\n",
        "As árvores binárias são estruturas de dados fundamentais na ciência da computação, caracterizadas por sua natureza hierárquica e organização específica. Consistem em nós interconectados, onde cada nó tem até dois filhos. Cada nó em uma árvore binária tem no máximo dois filhos, conhecidos como filho esquerdo e filho direito."
      ]
    },
    {
      "cell_type": "code",
      "execution_count": 1,
      "metadata": {
        "id": "oiwnCtwibVTf"
      },
      "outputs": [
        {
          "name": "stdout",
          "output_type": "stream",
          "text": [
            "Árvore:  5 <- 3 -> 1\n"
          ]
        }
      ],
      "source": [
        "class NodoArvore:\n",
        "    def __init__(self, chave=None, esquerda=None, direita=None):\n",
        "        self.chave = chave\n",
        "        self.esquerda = esquerda\n",
        "        self.direita = direita\n",
        "\n",
        "    def __repr__(self):\n",
        "        return '%s <- %s -> %s' % (self.esquerda and self.esquerda.chave,\n",
        "                                    self.chave,\n",
        "                                    self.direita and self.direita.chave)\n",
        "\n",
        "raiz = NodoArvore(3)\n",
        "raiz.esquerda = NodoArvore(5)\n",
        "raiz.direita  = NodoArvore(1)\n",
        "print(\"Árvore: \", raiz)"
      ]
    },
    {
      "cell_type": "code",
      "execution_count": 4,
      "metadata": {
        "id": "LxBHiZ9Qbzs0"
      },
      "outputs": [
        {
          "name": "stdout",
          "output_type": "stream",
          "text": [
            "20 <- 40 -> 60\n",
            "10 <- 20 -> 30\n",
            "50 <- 60 -> 70\n"
          ]
        }
      ],
      "source": [
        "raiz = NodoArvore(40)\n",
        "\n",
        "raiz.esquerda = NodoArvore(20)\n",
        "raiz.direita  = NodoArvore(60)\n",
        "\n",
        "raiz.direita.esquerda  = NodoArvore(50)\n",
        "raiz.direita.direita   = NodoArvore(70)\n",
        "raiz.esquerda.esquerda = NodoArvore(10)\n",
        "raiz.esquerda.direita  = NodoArvore(30)\n",
        "print(raiz)\n",
        "print(raiz.esquerda)\n",
        "print(raiz.direita)"
      ]
    },
    {
      "cell_type": "code",
      "execution_count": 6,
      "metadata": {
        "id": "WEUMEVjkcKoP"
      },
      "outputs": [],
      "source": [
        "def em_ordem(raiz):\n",
        "    if not raiz:\n",
        "        return\n",
        "\n",
        "    # Visita filho da esquerda.\n",
        "    em_ordem(raiz.esquerda)\n",
        "\n",
        "    # Visita nodo corrente.\n",
        "    print(raiz.chave),\n",
        "\n",
        "    # Visita filho da direita.\n",
        "    em_ordem(raiz.direita)\n",
        "\n",
        "\n",
        "em_ordem(raiz)"
      ]
    },
    {
      "cell_type": "code",
      "execution_count": 12,
      "metadata": {},
      "outputs": [
        {
          "name": "stdout",
          "output_type": "stream",
          "text": [
            "40\n",
            "20\n",
            "10\n",
            "30\n",
            "60\n",
            "50\n",
            "70\n"
          ]
        }
      ],
      "source": [
        "def pre_ordem(raiz):\n",
        "    if raiz:\n",
        "        print(raiz.chave)\n",
        "\n",
        "        pre_ordem(raiz.esquerda)\n",
        "\n",
        "        pre_ordem(raiz.direita)\n",
        "\n",
        "pre_ordem(raiz)"
      ]
    },
    {
      "cell_type": "code",
      "execution_count": 13,
      "metadata": {
        "id": "hqjKi2prcO0m"
      },
      "outputs": [
        {
          "name": "stdout",
          "output_type": "stream",
          "text": [
            "10\n",
            "30\n",
            "20\n",
            "50\n",
            "70\n",
            "60\n",
            "40\n"
          ]
        }
      ],
      "source": [
        "def pos_ordem(raiz):\n",
        "    if raiz:\n",
        "        pos_ordem(raiz.esquerda)\n",
        "\n",
        "        pos_ordem(raiz.direita)\n",
        "\n",
        "        print(raiz.chave)\n",
        "\n",
        "\n",
        "pos_ordem(raiz)"
      ]
    },
    {
      "cell_type": "code",
      "execution_count": null,
      "metadata": {
        "id": "iceqy40Kcej0"
      },
      "outputs": [],
      "source": [
        "def insere(raiz, nodo):\n",
        "    \"\"\"Insere um nodo em uma árvore binária de pesquisa.\"\"\"\n",
        "    # Nodo deve ser inserido na raiz.\n",
        "    if raiz is None:\n",
        "        raiz = nodo\n",
        "\n",
        "    # Nodo deve ser inserido na subárvore direita.\n",
        "    elif raiz.chave < nodo.chave:\n",
        "        if raiz.direita is None:\n",
        "            raiz.direita = nodo\n",
        "        else:\n",
        "            insere(raiz.direita, nodo)\n",
        "\n",
        "    # Nodo deve ser inserido na subárvore esquerda.\n",
        "    else:\n",
        "        if raiz.esquerda is None:\n",
        "            raiz.esquerda = nodo\n",
        "        else:\n",
        "            insere(raiz.esquerda, nodo)"
      ]
    },
    {
      "cell_type": "code",
      "execution_count": null,
      "metadata": {
        "id": "S_kSTW0LciBs"
      },
      "outputs": [],
      "source": [
        "# Cria uma árvore binária de pesquisa.\n",
        "raiz = NodoArvore(40)\n",
        "for chave in [20, 60, 50, 70, 10, 30]:\n",
        "    nodo = NodoArvore(chave)\n",
        "    insere(raiz, nodo)\n",
        "# Imprime o caminhamento em ordem da árvore.\n",
        "em_ordem(raiz)"
      ]
    },
    {
      "cell_type": "code",
      "execution_count": null,
      "metadata": {
        "id": "rq4VdCTacqSt"
      },
      "outputs": [],
      "source": [
        "def busca(raiz, chave):\n",
        "    \"\"\"Procura por uma chave em uma árvore binária de pesquisa.\"\"\"\n",
        "    # Trata o caso em que a chave procurada não está presente.\n",
        "    if raiz is None:\n",
        "        return None\n",
        "\n",
        "    # A chave procurada está na raiz da árvore.\n",
        "    if raiz.chave == chave:\n",
        "        return raiz\n",
        "\n",
        "    # A chave procurada é maior que a da raiz.\n",
        "    if raiz.chave < chave:\n",
        "        return busca(raiz.direita, chave)\n",
        "\n",
        "    # A chave procurada é menor que a da raiz.\n",
        "    return busca(raiz.esquerda, chave)"
      ]
    },
    {
      "cell_type": "code",
      "execution_count": null,
      "metadata": {
        "id": "IwIvHjqPctxp"
      },
      "outputs": [],
      "source": [
        "# Cria uma árvore binária de pesquisa.\n",
        "raiz = NodoArvore(40)\n",
        "for chave in [20, 60, 50, 70, 10, 30]:\n",
        "    nodo = NodoArvore(chave)\n",
        "    insere(raiz, nodo)\n",
        "\n",
        "# Procura por valores na árvore.\n",
        "for chave in [-50, 10, 30, 70, 100]:\n",
        "    resultado = busca(raiz, chave)\n",
        "    if resultado:\n",
        "        print(\"Busca pela chave {}: Sucesso!\".format(chave))\n",
        "    else:\n",
        "        print(\"Busca pela chave {}: Falha!\".format(chave))"
      ]
    },
    {
      "cell_type": "code",
      "execution_count": null,
      "metadata": {
        "id": "dk9HqYUsTlu-"
      },
      "outputs": [],
      "source": [
        "# Python3 program to for tree traversals\n",
        "\n",
        "\n",
        "# A class that represents an individual node in a\n",
        "# Binary Tree\n",
        "class Node:\n",
        "    def __init__(self, key):\n",
        "        self.left = None\n",
        "        self.right = None\n",
        "        self.val = key\n",
        "\n",
        "\n",
        "# A function to do inorder tree traversal\n",
        "def printInorder(root):\n",
        "\n",
        "    if root:\n",
        "\n",
        "        # First recur on left child\n",
        "        printInorder(root.left)\n",
        "\n",
        "        # Then print the data of node\n",
        "        print(root.val, end=\" \"),\n",
        "\n",
        "        # Now recur on right child\n",
        "        printInorder(root.right)\n",
        "\n",
        "\n",
        "# Driver code\n",
        "if __name__ == \"__main__\":\n",
        "    root = Node(1)\n",
        "    root.left = Node(2)\n",
        "    root.right = Node(3)\n",
        "    root.left.left = Node(4)\n",
        "    root.left.right = Node(5)\n",
        "\n",
        "    # Function call\n",
        "    print(\"Inorder traversal of binary tree is\")\n",
        "    printInorder(root)"
      ]
    },
    {
      "cell_type": "code",
      "execution_count": null,
      "metadata": {
        "id": "oOaskmz5UvCY"
      },
      "outputs": [],
      "source": [
        "# Python3 program to for tree traversals\n",
        "\n",
        "\n",
        "# A class that represents an individual node\n",
        "# in a Binary Tree\n",
        "class Node:\n",
        "\tdef __init__(self, key):\n",
        "\t\tself.left = None\n",
        "\t\tself.right = None\n",
        "\t\tself.val = key\n",
        "\n",
        "\n",
        "# A function to do preorder tree traversal\n",
        "def printPreorder(root):\n",
        "\n",
        "\tif root:\n",
        "\n",
        "\t\t# First print the data of node\n",
        "\t\tprint(root.val, end=\" \"),\n",
        "\n",
        "\t\t# Then recur on left child\n",
        "\t\tprintPreorder(root.left)\n",
        "\n",
        "\t\t# Finally recur on right child\n",
        "\t\tprintPreorder(root.right)\n",
        "\n",
        "\n",
        "# Driver code\n",
        "if __name__ == \"__main__\":\n",
        "\troot = Node(1)\n",
        "\troot.left = Node(2)\n",
        "\troot.right = Node(3)\n",
        "\troot.left.left = Node(4)\n",
        "\troot.left.right = Node(5)\n",
        "\n",
        "\t# Function call\n",
        "\tprint(\"Preorder traversal of binary tree is\")\n",
        "\tprintPreorder(root)\n"
      ]
    },
    {
      "cell_type": "code",
      "execution_count": null,
      "metadata": {
        "id": "PAhDitF9UzJK"
      },
      "outputs": [],
      "source": [
        "# Python3 program to for tree traversals\n",
        "\n",
        "\n",
        "# A class that represents an individual node\n",
        "# in a Binary Tree\n",
        "class Node:\n",
        "\tdef __init__(self, key):\n",
        "\t\tself.left = None\n",
        "\t\tself.right = None\n",
        "\t\tself.val = key\n",
        "\n",
        "\n",
        "# A function to do postorder tree traversal\n",
        "def printPostorder(root):\n",
        "\n",
        "\tif root:\n",
        "\n",
        "\t\t# First recur on left child\n",
        "\t\tprintPostorder(root.left)\n",
        "\n",
        "\t\t# The recur on right child\n",
        "\t\tprintPostorder(root.right)\n",
        "\n",
        "\t\t# Now print the data of node\n",
        "\t\tprint(root.val, end=\" \"),\n",
        "\n",
        "\n",
        "# Driver code\n",
        "if __name__ == \"__main__\":\n",
        "\troot = Node(1)\n",
        "\troot.left = Node(2)\n",
        "\troot.right = Node(3)\n",
        "\troot.left.left = Node(4)\n",
        "\troot.left.right = Node(5)\n",
        "\n",
        "\t# Function call\n",
        "\tprint(\"Postorder traversal of binary tree is\")\n",
        "\tprintPostorder(root)\n"
      ]
    },
    {
      "cell_type": "code",
      "execution_count": null,
      "metadata": {
        "id": "HoAeikMPSmRS"
      },
      "outputs": [],
      "source": [
        "class Node:\n",
        "    def __init__(self, key):\n",
        "        self.left = None\n",
        "        self.right = None\n",
        "        self.val = key\n",
        "\n",
        "def insert(root, key):\n",
        "    if root is None:\n",
        "        return Node(key)\n",
        "    else:\n",
        "        if root.val < key:\n",
        "            root.right = insert(root.right, key)\n",
        "        else:\n",
        "            root.left = insert(root.left, key)\n",
        "    return root\n",
        "\n",
        "def search(root, key):\n",
        "    if root is None or root.val == key:\n",
        "        return root\n",
        "    if root.val < key:\n",
        "        return search(root.right, key)\n",
        "    return search(root.left, key)\n",
        "\n",
        "def minValue(node):\n",
        "    current = node\n",
        "    while current.left is not None:\n",
        "        current = current.left\n",
        "    return current.val\n",
        "\n",
        "def delete(root, key):\n",
        "    if root is None:\n",
        "        return root\n",
        "\n",
        "    if key < root.val:\n",
        "        root.left = delete(root.left, key)\n",
        "    elif key > root.val:\n",
        "        root.right = delete(root.right, key)\n",
        "    else:\n",
        "        if root.left is None:\n",
        "            return root.right\n",
        "        elif root.right is None:\n",
        "            return root.left\n",
        "\n",
        "        root.val = minValue(root.right)\n",
        "        root.right = delete(root.right, root.val)\n",
        "\n",
        "    return root\n",
        "\n",
        "# Criando e manipulando uma BST\n",
        "root = None\n",
        "root = insert(root, 50)\n",
        "insert(root, 30)\n",
        "insert(root, 20)\n",
        "insert(root, 40)\n",
        "insert(root, 70)\n",
        "insert(root, 60)\n",
        "insert(root, 80)\n",
        "\n",
        "# Busca\n",
        "print(\"60 Encontrado\" if search(root, 60) else \"60 Não encontrado\")\n",
        "\n",
        "# Deleção\n",
        "root = delete(root, 20)\n",
        "print(\"20 Encontrado\" if search(root, 20) else \"20 Não encontrado\")\n"
      ]
    }
  ],
  "metadata": {
    "colab": {
      "private_outputs": true,
      "provenance": []
    },
    "kernelspec": {
      "display_name": "Python 3",
      "name": "python3"
    },
    "language_info": {
      "codemirror_mode": {
        "name": "ipython",
        "version": 3
      },
      "file_extension": ".py",
      "mimetype": "text/x-python",
      "name": "python",
      "nbconvert_exporter": "python",
      "pygments_lexer": "ipython3",
      "version": "3.9.4"
    }
  },
  "nbformat": 4,
  "nbformat_minor": 0
}
