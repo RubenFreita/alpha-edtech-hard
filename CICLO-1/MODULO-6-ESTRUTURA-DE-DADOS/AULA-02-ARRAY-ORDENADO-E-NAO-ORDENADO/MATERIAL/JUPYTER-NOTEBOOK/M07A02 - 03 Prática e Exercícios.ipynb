{
  "cells": [
    {
      "cell_type": "markdown",
      "metadata": {
        "id": "-IlmrExrcVtN"
      },
      "source": [
        "**ARRAYS NÃO ORDENADOS**\n",
        "\n",
        "Um array não ordenado é uma coleção de elementos onde cada elemento pode ser identificado por um índice ou chave. No entanto, ao contrário dos arrays ordenados, os elementos em um array não ordenado não seguem uma sequência específica ou critério de ordenação.\n",
        "\n",
        "Em Python, arrays não ordenados podem ser representados como listas (‘list’), onde os elementos são armazenados na ordem em que são adicionados."
      ]
    },
    {
      "cell_type": "code",
      "execution_count": null,
      "metadata": {
        "id": "d69BJueVdYvj"
      },
      "outputs": [],
      "source": [
        "# Sistema simples de gerenciamento de livros usando array não ordenado\n",
        "\n",
        "class Biblioteca:\n",
        "    def __init__(self):\n",
        "        self.livros = []  # Lista para armazenar os livros\n",
        "\n",
        "    def adicionar_livro(self, titulo):\n",
        "        self.livros.append(titulo)  # Adiciona um livro no final do array\n",
        "        print(f\"O livro '{titulo}' foi adicionado à biblioteca.\")\n",
        "\n",
        "    def listar_livros(self):\n",
        "        if self.livros:\n",
        "            print(\"Livros na Biblioteca:\")\n",
        "            for livro in self.livros:\n",
        "                print(f\"- {livro}\")\n",
        "        else:\n",
        "            print(\"A biblioteca está vazia.\")\n",
        "\n",
        "    def remover_livro(self, titulo):\n",
        "        if titulo in self.livros:\n",
        "            self.livros.remove(titulo)  # Remove o livro do array\n",
        "            print(f\"O livro '{titulo}' foi removido da biblioteca.\")\n",
        "        else:\n",
        "            print(f\"O livro '{titulo}' não foi encontrado na biblioteca.\")\n",
        "\n",
        "# Testando o sistema de gerenciamento de livros\n",
        "biblioteca = Biblioteca()\n",
        "\n",
        "biblioteca.adicionar_livro(\"1984\")\n",
        "biblioteca.adicionar_livro(\"O Pequeno Príncipe\")\n",
        "biblioteca.adicionar_livro(\"Dom Quixote\")\n",
        "\n",
        "biblioteca.listar_livros()\n",
        "\n",
        "biblioteca.remover_livro(\"1984\")\n",
        "biblioteca.listar_livros()\n"
      ]
    },
    {
      "cell_type": "markdown",
      "metadata": {
        "id": "AsWEu77KdR9_"
      },
      "source": [
        "**ARRAYS ORDENADOS**\n",
        "\n",
        "Um array ordenado é uma coleção de elementos que são mantidos em uma ordem sequencial, geralmente em ordem crescente ou decrescente. A ordenação facilita operações como busca e inserção de elementos."
      ]
    },
    {
      "cell_type": "code",
      "execution_count": 3,
      "metadata": {
        "id": "5_03NmZWdZIB"
      },
      "outputs": [],
      "source": [
        "# Sistema de gerenciamento de livros usando array ordenado\n",
        "\n",
        "class BibliotecaOrdenada:\n",
        "    def __init__(self):\n",
        "        self.livros = []  # Lista para armazenar os livros de forma ordenada\n",
        "\n",
        "    def adicionar_livro(self, titulo):\n",
        "        # Encontra a posição correta para inserir o livro de forma ordenada\n",
        "        index = 0\n",
        "        while index < len(self.livros) and self.livros[index] < titulo:\n",
        "            index += 1\n",
        "        self.livros.insert(index, titulo)\n",
        "        print(f\"O livro '{titulo}' foi adicionado à biblioteca.\")\n",
        "\n",
        "    def listar_livros(self):\n",
        "        if self.livros:\n",
        "            print(\"Livros na Biblioteca (Ordenados):\")\n",
        "            for livro in self.livros:\n",
        "                print(f\"- {livro}\")\n",
        "        else:\n",
        "            print(\"A biblioteca está vazia.\")\n",
        "\n",
        "    def remover_livro(self, titulo):\n",
        "        if titulo in self.livros:\n",
        "            self.livros.remove(titulo)\n",
        "            print(f\"O livro '{titulo}' foi removido da biblioteca.\")\n",
        "        else:\n",
        "            print(f\"O livro '{titulo}' não foi encontrado na biblioteca.\")\n",
        "\n",
        "# Testando o sistema de gerenciamento de livros ordenados\n",
        "# biblioteca_ordenada = BibliotecaOrdenada()\n",
        "\n",
        "# biblioteca_ordenada.adicionar_livro(\"1984\")\n",
        "# biblioteca_ordenada.adicionar_livro(\"O Pequeno Príncipe\")\n",
        "# biblioteca_ordenada.adicionar_livro(\"Dom Quixote\")\n",
        "\n",
        "# biblioteca_ordenada.listar_livros()\n",
        "\n",
        "# biblioteca_ordenada.remover_livro(\"1984\")\n",
        "# biblioteca_ordenada.listar_livros()\n"
      ]
    },
    {
      "cell_type": "code",
      "execution_count": null,
      "metadata": {},
      "outputs": [],
      "source": []
    },
    {
      "cell_type": "code",
      "execution_count": 4,
      "metadata": {},
      "outputs": [],
      "source": [
        "titulos_livros = [\n",
        "    \"Dom Quixote\", \"1984\", \"Ulisses\", \"O Grande Gatsby\", \"Em Busca do Tempo Perdido\",\n",
        "    \"Cem Anos de Solidão\", \"Guerra e Paz\", \"O Processo\", \"Lolita\", \"A Divina Comédia\",\n",
        "    \"Crime e Castigo\", \"Os Irmãos Karamazov\", \"O Apanhador no Campo de Centeio\", \"O Sol é Para Todos\",\n",
        "    \"O Senhor dos Anéis\", \"Moby Dick\", \"Orgulho e Preconceito\", \"Jane Eyre\", \"Morro dos Ventos Uivantes\",\n",
        "    \"Passagem para a Índia\", \"Para Matar a Cotovia\", \"Admirável Mundo Novo\", \"Fahrenheit 451\",\n",
        "    \"Grande Sertão: Veredas\", \"A Metamorfose\", \"Cem Sonetos de Amor\", \"A Hora da Estrela\",\n",
        "    \"Capitães da Areia\", \"Vidas Secas\", \"Dom Casmurro\", \"Memórias Póstumas de Brás Cubas\",\n",
        "    \"O Alquimista\", \"A Cidade e os Cachorros\", \"O Nome da Rosa\", \"Ensaio Sobre a Cegueira\",\n",
        "    \"O Velho e o Mar\", \"A Insustentável Leveza do Ser\", \"Sagarana\", \"A Moreninha\",\n",
        "    \"Iracema\", \"O Guarani\", \"Memórias de um Sargento de Milícias\", \"Quincas Borba\",\n",
        "    \"O Primo Basílio\", \"O Alienista\", \"Senhora\", \"A Escrava Isaura\", \"Os Sertões\",\n",
        "    \"Macunaíma\", \"O Tempo e o Vento\"\n",
        "]"
      ]
    },
    {
      "cell_type": "code",
      "execution_count": null,
      "metadata": {},
      "outputs": [],
      "source": [
        "# Sistema de gerenciamento de livros usando array ordenado\n",
        "\n",
        "class BibliotecaOrdenada:\n",
        "    def __init__(self):\n",
        "        self.livros = []  # Lista para armazenar os livros de forma ordenada\n",
        "\n",
        "    def adicionar_livro(self, titulo):\n",
        "        # Encontra a posição correta para inserir o livro de forma ordenada\n",
        "        index = 0\n",
        "        while index < len(self.livros) and self.livros[index] < titulo:\n",
        "            index += 1\n",
        "        self.livros.insert(index, titulo)\n",
        "        print(f\"O livro '{titulo}' foi adicionado à biblioteca.\")\n",
        "\n",
        "    def listar_livros(self):\n",
        "        if self.livros:\n",
        "            print(\"Livros na Biblioteca (Ordenados):\")\n",
        "            for livro in self.livros:\n",
        "                print(f\"- {livro}\")\n",
        "        else:\n",
        "            print(\"A biblioteca está vazia.\")\n",
        "\n",
        "    def remover_livro(self, titulo):\n",
        "        if titulo in self.livros:\n",
        "            self.livros.remove(titulo)\n",
        "            print(f\"O livro '{titulo}' foi removido da biblioteca.\")\n",
        "        else:\n",
        "            print(f\"O livro '{titulo}' não foi encontrado na biblioteca.\")"
      ]
    },
    {
      "cell_type": "code",
      "execution_count": 31,
      "metadata": {},
      "outputs": [],
      "source": [
        "#criando busca binaria\n",
        "\n",
        "# Sistema de gerenciamento de livros usando array ordenado\n",
        "\n",
        "class BibliotecaOrdenada:\n",
        "    def __init__(self):\n",
        "        self.livros = []  # Lista para armazenar os livros de forma ordenada\n",
        "\n",
        "    def adicionar_livro(self, titulo):\n",
        "        # Encontra a posição correta para inserir o livro de forma ordenada\n",
        "        index = 0\n",
        "        while index < len(self.livros) and self.livros[index] < titulo:\n",
        "            index += 1\n",
        "        self.livros.insert(index, titulo)\n",
        "        print(f\"O livro '{titulo}' foi adicionado à biblioteca.\")\n",
        "\n",
        "    def listar_livros(self):\n",
        "        if self.livros:\n",
        "            print(\"Livros na Biblioteca (Ordenados):\")\n",
        "            for livro in self.livros:\n",
        "                print(f\"- {livro}\")\n",
        "        else:\n",
        "            print(\"A biblioteca está vazia.\")\n",
        "\n",
        "    def remover_livro(self, titulo):\n",
        "        if titulo in self.livros:\n",
        "            self.livros.remove(titulo)\n",
        "            print(f\"O livro '{titulo}' foi removido da biblioteca.\")\n",
        "        else:\n",
        "            print(f\"O livro '{titulo}' não foi encontrado na biblioteca.\")\n",
        "    def busca_binaria(self, titulo):\n",
        "        ini, fim = 0, len(self.livros) - 1\n",
        "\n",
        "        while ini < fim:\n",
        "            meio = (ini + fim)//2\n",
        "            alvo_meio = self.livros[meio]\n",
        "            if alvo_meio.lower() == titulo.lower():\n",
        "                return meio\n",
        "            elif titulo < alvo_meio:\n",
        "                fim = meio - 1\n",
        "            else:\n",
        "                ini = meio + 1\n",
        "        return -1"
      ]
    },
    {
      "cell_type": "code",
      "execution_count": null,
      "metadata": {},
      "outputs": [],
      "source": [
        "biblioteca = BibliotecaOrdenada()\n",
        "\n",
        "for livro in titulos_livros:\n",
        "    biblioteca.adicionar_livro(livro)\n",
        "\n",
        "biblioteca.listar_livros()\n"
      ]
    },
    {
      "cell_type": "code",
      "execution_count": 72,
      "metadata": {},
      "outputs": [
        {
          "name": "stdout",
          "output_type": "stream",
          "text": [
            "O tempo de busca do título ulisses foi de 0.00000000000000000000 segundos\n",
            "1706195099.8427653\n",
            "1706195099.8482354\n",
            "O tempo de busca do título O Nome da Rosa foi de 0.00547003746032714844 segundos\n"
          ]
        }
      ],
      "source": [
        "import time\n",
        "titulo1 = \"ulisses\"\n",
        "tempo_inicial = time.time()\n",
        "\n",
        "result1 = biblioteca.busca_binaria(titulo1)\n",
        "\n",
        "tempo_final = time.time()\n",
        "\n",
        "print(f\"O tempo de busca do título {titulo1} foi de {tempo_final-tempo_inicial:.20f} segundos\")\n",
        "\n",
        "titulo2 = \"O Nome da Rosa\"\n",
        "tempo_inicial = time.time()\n",
        "\n",
        "result2 = biblioteca.busca_binaria(titulo2)\n",
        "\n",
        "tempo_final = time.time()\n",
        "print(tempo_inicial)\n",
        "print(tempo_final)\n",
        "print(f\"O tempo de busca do título {titulo2} foi de {tempo_final-tempo_inicial:.20f} segundos\")"
      ]
    },
    {
      "cell_type": "markdown",
      "metadata": {
        "id": "ld9R69Yfdpai"
      },
      "source": [
        "---\n",
        "**EXERCÍCIO**\n",
        "\n",
        "1. Altere o código utilizado no exemplo de Arrays Ordenados, para contemplar a lista de 50 livros listados abaixo. Apresente o resultado listando os livros existentes na biblioteca.\n",
        "\n",
        "```\n",
        "# Lista de 50 títulos de livros conhecidos em português do Brasil\n",
        "titulos_livros = [\n",
        "    \"Dom Quixote\", \"1984\", \"Ulisses\", \"O Grande Gatsby\", \"Em Busca do Tempo Perdido\",\n",
        "    \"Cem Anos de Solidão\", \"Guerra e Paz\", \"O Processo\", \"Lolita\", \"A Divina Comédia\",\n",
        "    \"Crime e Castigo\", \"Os Irmãos Karamazov\", \"O Apanhador no Campo de Centeio\", \"O Sol é Para Todos\",\n",
        "    \"O Senhor dos Anéis\", \"Moby Dick\", \"Orgulho e Preconceito\", \"Jane Eyre\", \"Morro dos Ventos Uivantes\",\n",
        "    \"Passagem para a Índia\", \"Para Matar a Cotovia\", \"Admirável Mundo Novo\", \"Fahrenheit 451\",\n",
        "    \"Grande Sertão: Veredas\", \"A Metamorfose\", \"Cem Sonetos de Amor\", \"A Hora da Estrela\",\n",
        "    \"Capitães da Areia\", \"Vidas Secas\", \"Dom Casmurro\", \"Memórias Póstumas de Brás Cubas\",\n",
        "    \"O Alquimista\", \"A Cidade e os Cachorros\", \"O Nome da Rosa\", \"Ensaio Sobre a Cegueira\",\n",
        "    \"O Velho e o Mar\", \"A Insustentável Leveza do Ser\", \"Sagarana\", \"A Moreninha\",\n",
        "    \"Iracema\", \"O Guarani\", \"Memórias de um Sargento de Milícias\", \"Quincas Borba\",\n",
        "    \"O Primo Basílio\", \"O Alienista\", \"Senhora\", \"A Escrava Isaura\", \"Os Sertões\",\n",
        "    \"Macunaíma\", \"O Tempo e o Vento\"\n",
        "]\n",
        "```\n",
        "\n",
        "2. Crie o método **buscar_livro** para aplicar uma busca binária na coleção de livros para encontrar o título \"O Guarani\". Utilize a medição de tempo indicada abaixo antes de executar a busca dos dois títulos e identifique as diferenças no tempo de busca de títulos em diferentes posições da lista.\n",
        "\n",
        "```\n",
        "import time\n",
        "\n",
        "...\n",
        "\n",
        "inicio_tempo = time.time()\n",
        "biblioteca_ordenada.buscar_livro('O Guarani')\n",
        "fim_tempo = time.time()\n",
        "\n",
        "print(f\"Tempo de execução da busca: {fim_tempo - inicio_tempo} segundos\")\n",
        "```\n",
        "\n",
        "\n",
        "\n"
      ]
    }
  ],
  "metadata": {
    "colab": {
      "private_outputs": true,
      "provenance": []
    },
    "kernelspec": {
      "display_name": "Python 3",
      "name": "python3"
    },
    "language_info": {
      "codemirror_mode": {
        "name": "ipython",
        "version": 3
      },
      "file_extension": ".py",
      "mimetype": "text/x-python",
      "name": "python",
      "nbconvert_exporter": "python",
      "pygments_lexer": "ipython3",
      "version": "3.9.4"
    }
  },
  "nbformat": 4,
  "nbformat_minor": 0
}
