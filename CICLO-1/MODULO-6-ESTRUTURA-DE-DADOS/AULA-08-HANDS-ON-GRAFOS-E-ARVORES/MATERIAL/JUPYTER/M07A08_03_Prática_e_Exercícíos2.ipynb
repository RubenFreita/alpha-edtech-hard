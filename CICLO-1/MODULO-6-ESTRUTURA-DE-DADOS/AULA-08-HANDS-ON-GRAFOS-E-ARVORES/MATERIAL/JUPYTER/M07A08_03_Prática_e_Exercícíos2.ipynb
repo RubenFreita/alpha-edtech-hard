{
  "cells": [
    {
      "cell_type": "markdown",
      "metadata": {
        "id": "FHWqk-Q0wkKf"
      },
      "source": [
        "###**CASO DE ESTUDO | ÁRVORES BINÁRIAS**"
      ]
    },
    {
      "cell_type": "markdown",
      "metadata": {
        "id": "wINcPXR9skd7"
      },
      "source": [
        "**Sistema de Classificação de Comentários**\n",
        "\n",
        "**Problema de Negócio**: Em plataformas online que recebem grande quantidade de feedback dos usuários na forma de comentários, como sites de e-commerce, redes sociais ou fóruns, é crucial organizar e classificar esses comentários de maneira eficiente. Essa organização permite não apenas melhorar a experiência do usuário ao navegar pelos comentários mas também auxilia moderadores e administradores a identificar rapidamente comentários relevantes, populares ou problemáticos."
      ]
    },
    {
      "cell_type": "markdown",
      "metadata": {
        "id": "tDCGayM2tPFp"
      },
      "source": [
        "###**SOLUÇÃO PROPOSTA**"
      ]
    },
    {
      "cell_type": "markdown",
      "metadata": {
        "id": "c4TZCiXOtvoz"
      },
      "source": [
        "*Implementar um sistema de classificação de comentários usando uma Árvore Binária de Busca (BST). Cada nó na árvore representará um comentário, organizado com base em um critério específico como data de publicação, popularidade (número de curtidas), ou prioridade de moderação. Esta estrutura permite operações eficientes de inserção, busca e deleção de comentários.*"
      ]
    },
    {
      "cell_type": "code",
      "execution_count": 1,
      "metadata": {
        "id": "Wkhd1kU0scBB"
      },
      "outputs": [
        {
          "name": "stdout",
          "output_type": "stream",
          "text": [
            "Comentários ordenados por popularidade:\n",
            "Comment ID: 3, Likes: 5\n",
            "Comment ID: 2, Likes: 15\n",
            "Comment ID: 1, Likes: 20\n",
            "Comment ID: 4, Likes: 50\n"
          ]
        }
      ],
      "source": [
        "class CommentNode:\n",
        "    def __init__(self, id, likes):\n",
        "        self.id = id\n",
        "        self.likes = likes\n",
        "        self.left = None\n",
        "        self.right = None\n",
        "\n",
        "class CommentBST:\n",
        "    def __init__(self):\n",
        "        self.root = None\n",
        "\n",
        "    def insert(self, node, id, likes):\n",
        "        if node is None:\n",
        "            return CommentNode(id, likes)\n",
        "        if likes < node.likes:\n",
        "            node.left = self.insert(node.left, id, likes)\n",
        "        else:\n",
        "            node.right = self.insert(node.right, id, likes)\n",
        "        return node\n",
        "\n",
        "    def in_order_traversal(self, node):\n",
        "        if node is not None:\n",
        "            self.in_order_traversal(node.left)\n",
        "            print(f'Comment ID: {node.id}, Likes: {node.likes}')\n",
        "            self.in_order_traversal(node.right)\n",
        "\n",
        "# Exemplo de uso\n",
        "comments = CommentBST()\n",
        "comments.root = comments.insert(comments.root, 1, 20)\n",
        "comments.insert(comments.root, 2, 15)\n",
        "comments.insert(comments.root, 3, 5)\n",
        "comments.insert(comments.root, 4, 50)\n",
        "\n",
        "print(\"Comentários ordenados por popularidade:\")\n",
        "comments.in_order_traversal(comments.root)\n"
      ]
    },
    {
      "cell_type": "markdown",
      "metadata": {
        "id": "Wf6cd38wvyIU"
      },
      "source": [
        "###**CASO DE ESTUDO | GRAFOS**"
      ]
    },
    {
      "cell_type": "markdown",
      "metadata": {
        "id": "IgTzvm5kuB5w"
      },
      "source": [
        "**Otimização de Rotas de Entrega**\n",
        "\n",
        "**Problema de Negócio**: Empresas de logística enfrentam o desafio diário de otimizar as rotas de entrega para reduzir custos operacionais e tempo de entrega. Com diversas entregas a serem realizadas em diferentes locais dentro de uma mesma área geográfica, é crucial determinar o caminho mais eficiente que minimize o tempo total de viagem e o custo associado. O problema se torna ainda mais complexo com a adição de variáveis como tráfego, restrições de horário para entrega e capacidade de carga dos veículos."
      ]
    },
    {
      "cell_type": "markdown",
      "metadata": {
        "id": "IBsvJkervUbS"
      },
      "source": [
        "###**SOLUÇÃO PROPOSTA**"
      ]
    },
    {
      "cell_type": "markdown",
      "metadata": {
        "id": "C5_f5cMOuq4V"
      },
      "source": [
        "*Utilizar grafos para modelar o problema de otimização de rotas de entrega. Cada local de entrega pode ser representado como um vértice no grafo, e as arestas podem representar as rotas possíveis entre esses locais, com pesos indicando distâncias ou tempos estimados de viagem. Grafos ponderados e dirigidos são particularmente úteis aqui, permitindo a modelagem precisa das condições reais de viagem.*"
      ]
    },
    {
      "cell_type": "code",
      "execution_count": 2,
      "metadata": {
        "id": "9xOQjB1purMb"
      },
      "outputs": [
        {
          "name": "stdout",
          "output_type": "stream",
          "text": [
            "Distâncias mínimas do Depósito a todos os pontos:\n",
            "{'Depósito': 0, 'Ponto A': 5, 'Ponto B': 10, 'Ponto C': 20, 'Ponto D': 35}\n",
            "Menor rota do Depósito ao Ponto X:\n",
            "['Depósito', 'Ponto A', 'Ponto C', 'Ponto D']\n"
          ]
        }
      ],
      "source": [
        "import heapq\n",
        "\n",
        "class Graph:\n",
        "    def __init__(self):\n",
        "        self.vertices = {}\n",
        "\n",
        "    def add_vertex(self, name):\n",
        "        self.vertices[name] = []\n",
        "\n",
        "    def add_edge(self, from_vertex, to_vertex, weight):\n",
        "        self.vertices[from_vertex].append((to_vertex, weight))\n",
        "\n",
        "    def dijkstra(self, start_vertex):\n",
        "        distances = {vertex: float('infinity') for vertex in self.vertices}\n",
        "        previous_vertices = {vertex: None for vertex in self.vertices}\n",
        "        distances[start_vertex] = 0\n",
        "        pq = [(0, start_vertex)]\n",
        "\n",
        "        while pq:\n",
        "            current_distance, current_vertex = heapq.heappop(pq)\n",
        "\n",
        "            for neighbor, weight in self.vertices[current_vertex]:\n",
        "                distance = current_distance + weight\n",
        "\n",
        "                if distance < distances[neighbor]:\n",
        "                    distances[neighbor] = distance\n",
        "                    previous_vertices[neighbor] = current_vertex\n",
        "                    heapq.heappush(pq, (distance, neighbor))\n",
        "\n",
        "        return distances, previous_vertices\n",
        "\n",
        "    def get_shortest_path(self, start_vertex, target_vertex):\n",
        "        distances, predecessors = self.dijkstra(start_vertex)\n",
        "        path = []\n",
        "        current_vertex = target_vertex\n",
        "\n",
        "        while current_vertex is not None:\n",
        "            path.insert(0, current_vertex)\n",
        "            current_vertex = predecessors[current_vertex]\n",
        "\n",
        "        return path\n",
        "\n",
        "# Exemplo de uso\n",
        "g = Graph()\n",
        "# Adicionando vértices\n",
        "g.add_vertex('Depósito')\n",
        "g.add_vertex('Ponto A')\n",
        "g.add_vertex('Ponto B')\n",
        "g.add_vertex('Ponto C')\n",
        "g.add_vertex('Ponto D')\n",
        "\n",
        "# Adicionando arestas\n",
        "g.add_edge('Depósito', 'Ponto A', 5)\n",
        "g.add_edge('Depósito', 'Ponto B', 10)\n",
        "g.add_edge('Ponto A', 'Ponto C', 15)\n",
        "g.add_edge('Ponto B', 'Ponto C', 20)\n",
        "g.add_edge('Ponto C', 'Depósito', 30)\n",
        "g.add_edge('Ponto C', 'Ponto D', 15)\n",
        "g.add_edge('Ponto D', 'Ponto C', 10)\n",
        "\n",
        "print(\"Distâncias mínimas do Depósito a todos os pontos:\")\n",
        "print(g.dijkstra('Depósito')[0])\n",
        "\n",
        "# Encontrando a menor rota do Depósito ao Ponto D\n",
        "print(\"Menor rota do Depósito ao Ponto X:\")\n",
        "print(g.get_shortest_path('Depósito', 'Ponto D'))"
      ]
    }
  ],
  "metadata": {
    "colab": {
      "private_outputs": true,
      "provenance": []
    },
    "kernelspec": {
      "display_name": "Python 3",
      "name": "python3"
    },
    "language_info": {
      "codemirror_mode": {
        "name": "ipython",
        "version": 3
      },
      "file_extension": ".py",
      "mimetype": "text/x-python",
      "name": "python",
      "nbconvert_exporter": "python",
      "pygments_lexer": "ipython3",
      "version": "3.9.4"
    }
  },
  "nbformat": 4,
  "nbformat_minor": 0
}
